{
 "cells": [
  {
   "cell_type": "markdown",
   "id": "619fdba8",
   "metadata": {},
   "source": [
    "# Python Programming Assignment_1 Solution"
   ]
  },
  {
   "cell_type": "markdown",
   "id": "0f305072",
   "metadata": {},
   "source": [
    "SUBMITTED BY: NILUTPAL DAS"
   ]
  },
  {
   "cell_type": "markdown",
   "id": "74d39f0c",
   "metadata": {},
   "source": [
    "### Q1. Write a Python program to print &quot;Hello Python&quot;?"
   ]
  },
  {
   "cell_type": "code",
   "execution_count": 1,
   "id": "8da57f58",
   "metadata": {},
   "outputs": [
    {
     "name": "stdout",
     "output_type": "stream",
     "text": [
      "Hello Python\n"
     ]
    }
   ],
   "source": [
    "print(\"Hello Python\")"
   ]
  },
  {
   "cell_type": "markdown",
   "id": "c9c3193d",
   "metadata": {},
   "source": [
    "### Q2. Write a Python program to do arithmetical operations addition and division.?"
   ]
  },
  {
   "cell_type": "code",
   "execution_count": 44,
   "id": "a32c5a38",
   "metadata": {},
   "outputs": [
    {
     "name": "stdout",
     "output_type": "stream",
     "text": [
      "enter first number :1\n",
      "enter second number :2\n",
      "addition of two numbers:  3\n",
      "--------------------------------------------\n",
      "enter first number :3\n",
      "enter second number :4\n",
      "division of two numbers:  0.75\n"
     ]
    }
   ],
   "source": [
    "num1 = int(input(\"enter first number :\"))\n",
    "num2 = int(input(\"enter second number :\"))\n",
    "def Addition(num1, num2):\n",
    "    print('addition of two numbers: ',num1+num2)\n",
    "Addition(num1,num2)\n",
    "print('--------------------------------------------')\n",
    "num1 = int(input(\"enter first number :\"))\n",
    "num2 = int(input(\"enter second number :\"))\n",
    "def Division(num1, num2):\n",
    "    print('division of two numbers: ',num1/num2)\n",
    "Division(num1,num2)"
   ]
  },
  {
   "cell_type": "markdown",
   "id": "5643166a",
   "metadata": {},
   "source": [
    "### Q3. Write a Python program to find the area of a triangle?"
   ]
  },
  {
   "cell_type": "code",
   "execution_count": 45,
   "id": "4c6599ae",
   "metadata": {},
   "outputs": [
    {
     "name": "stdout",
     "output_type": "stream",
     "text": [
      "enter height of a triangle: 12\n",
      "enter base of a triangle: 4\n",
      "Area of Triangle 24.0\n"
     ]
    }
   ],
   "source": [
    "base = int(input(\"enter height of a triangle: \"))\n",
    "height = int(input(\"enter base of a triangle: \"))\n",
    "def AreaOfTriangle(base, height):\n",
    "    print('Area of Triangle', 0.5*base*height)\n",
    "AreaOfTriangle(base,height)"
   ]
  },
  {
   "cell_type": "markdown",
   "id": "33f06600",
   "metadata": {},
   "source": [
    "### Q4. Write a Python program to swap two variables?"
   ]
  },
  {
   "cell_type": "code",
   "execution_count": 48,
   "id": "3b889d93",
   "metadata": {},
   "outputs": [
    {
     "name": "stdout",
     "output_type": "stream",
     "text": [
      "enter first number: 1\n",
      "enter second number: 2\n",
      "Before swapping 1 2\n",
      "After swapping 2 1\n"
     ]
    }
   ],
   "source": [
    "num1 = int(input(\"enter first number: \"))\n",
    "num2 = int(input(\"enter second number: \"))\n",
    "def Swap(num1,num2):\n",
    "    temp = num1\n",
    "    num1 = num2\n",
    "    num2 = temp\n",
    "    return num1,num2\n",
    "\n",
    "print('Before swapping', num1,num2)\n",
    "num1, num2 = Swap(num1,num2)\n",
    "print('After swapping', num1,num2)"
   ]
  },
  {
   "cell_type": "markdown",
   "id": "cea9d2cc",
   "metadata": {},
   "source": [
    "### Q5.Write a Python program to generate a random number ?"
   ]
  },
  {
   "cell_type": "code",
   "execution_count": 54,
   "id": "83b9954c",
   "metadata": {},
   "outputs": [
    {
     "name": "stdout",
     "output_type": "stream",
     "text": [
      "Generated random number :  252\n",
      "Generated random number :  64\n"
     ]
    }
   ],
   "source": [
    "from random import randint\n",
    "\n",
    "def RandomGenerator(start=0,end=1000):\n",
    "    print(\"Generated random number : \", randint(start,end))\n",
    "\n",
    "# function without parameters\n",
    "RandomGenerator()\n",
    "# function with parameters\n",
    "RandomGenerator(0,100)"
   ]
  }
 ],
 "metadata": {
  "kernelspec": {
   "display_name": "Python 3 (ipykernel)",
   "language": "python",
   "name": "python3"
  },
  "language_info": {
   "codemirror_mode": {
    "name": "ipython",
    "version": 3
   },
   "file_extension": ".py",
   "mimetype": "text/x-python",
   "name": "python",
   "nbconvert_exporter": "python",
   "pygments_lexer": "ipython3",
   "version": "3.8.8"
  }
 },
 "nbformat": 4,
 "nbformat_minor": 5
}
