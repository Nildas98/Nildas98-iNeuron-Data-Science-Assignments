{
 "cells": [
  {
   "cell_type": "markdown",
   "id": "ece78b04",
   "metadata": {},
   "source": [
    "# Python Assignment_14 Solution"
   ]
  },
  {
   "cell_type": "markdown",
   "id": "cd2a65b1",
   "metadata": {},
   "source": [
    "SUBMITTED BY: NILUTPAL DAS"
   ]
  },
  {
   "cell_type": "markdown",
   "id": "c97d97a6",
   "metadata": {},
   "source": [
    "### Q1. What does RGBA stand for?"
   ]
  },
  {
   "cell_type": "markdown",
   "id": "1dc81faa",
   "metadata": {},
   "source": [
    "__A1.__ RGBA(Red-Green-Blue-Alpha)\n",
    "The RGB color model is extended in this specification to include “alpha” to allow specification of the opacity of a color. It works similar to the LA mode and end up with 4 channels of 8-bit which combined makes a 32-bit image."
   ]
  },
  {
   "cell_type": "markdown",
   "id": "5723448b",
   "metadata": {},
   "source": [
    "### Q2. From the Pillow module, how do you get the RGBA value of any images?"
   ]
  },
  {
   "cell_type": "markdown",
   "id": "d37d6680",
   "metadata": {},
   "source": [
    "__A2.__ To get the RGBA values from an image, we first have to import the pillow module first. <br> Then we have to load the image by creating an object also giving proper file format is necessary, at last call by the function of Image module called getdata() to extract the pixel values. <br>\n",
    "This scans the image horizontally from left to right starting at the top-left corner. The values got from each pixel is then added into a list. Finally what we get is a list with each pixel value as a set of 4 values(R,G,B.A). <br>"
   ]
  },
  {
   "cell_type": "markdown",
   "id": "f56707fa",
   "metadata": {},
   "source": [
    "### Q3. What is a box tuple, and how does it work?"
   ]
  },
  {
   "cell_type": "markdown",
   "id": "1fa976d2",
   "metadata": {},
   "source": [
    "__A3.__ A box tuple is a tuple value of four integers: the left-edge x-coordinate, the top-edge y-coordinate,the width, and the height, respectively."
   ]
  },
  {
   "cell_type": "markdown",
   "id": "b71d55e2",
   "metadata": {},
   "source": [
    "### Q4. Use your image and load in notebook then, How can you find out the width and height of an Image object?"
   ]
  },
  {
   "cell_type": "code",
   "execution_count": 4,
   "id": "7f50b5c2",
   "metadata": {},
   "outputs": [
    {
     "name": "stdout",
     "output_type": "stream",
     "text": [
      "Width, Height -> (5000, 3335)\n",
      "Width, Height -> 5000,3335\n",
      "Width, Height -> 5000,3335\n"
     ]
    }
   ],
   "source": [
    "from PIL import Image\n",
    "flag = Image.open('flag.jpg')\n",
    "print(f'Width, Height -> {flag.size}') # Approach 1\n",
    "print(f'Width, Height -> {flag.width},{flag.height}') # Approach 2\n",
    "width,height = flag.size\n",
    "print(f'Width, Height -> {width},{height}') # Approach 3"
   ]
  },
  {
   "cell_type": "markdown",
   "id": "1cefc1c8",
   "metadata": {},
   "source": [
    "### Q5. What method would you call to get Image object for a 100×100 image, excluding the lower-left quarter of it?"
   ]
  },
  {
   "cell_type": "code",
   "execution_count": 5,
   "id": "ba5b9bc1",
   "metadata": {},
   "outputs": [],
   "source": [
    "from PIL import Image\n",
    "img = Image.open('flag.jpg')\n",
    "new_img = img.crop((0,50,50,50))"
   ]
  },
  {
   "cell_type": "markdown",
   "id": "f09754cc",
   "metadata": {},
   "source": [
    "### Q6. After making changes to an Image object, how could you save it as an image file?"
   ]
  },
  {
   "cell_type": "code",
   "execution_count": 7,
   "id": "eb4a1255",
   "metadata": {},
   "outputs": [],
   "source": [
    "from PIL import Image\n",
    "flag = Image.open('flag.jpg')\n",
    "flag.save('flag.jpg')"
   ]
  },
  {
   "cell_type": "markdown",
   "id": "33614404",
   "metadata": {},
   "source": [
    "### Q7. What module contains Pillow’s shape-drawing code?"
   ]
  },
  {
   "cell_type": "markdown",
   "id": "7ec3b835",
   "metadata": {},
   "source": [
    "__A7.__ The 'ImageDraw' module provides simple 2D graphics support for Image Object. Generally, we use this module to create new images, annotate or retouch existing images and to generate graphics on the fly for web use. The graphics commands support the drawing of shapes and annotation of text."
   ]
  },
  {
   "cell_type": "markdown",
   "id": "eee0c6ae",
   "metadata": {},
   "source": [
    "### Q8. Image objects do not have drawing methods. What kind of object does? How do you get this kind of object?"
   ]
  },
  {
   "cell_type": "markdown",
   "id": "322415a8",
   "metadata": {},
   "source": [
    "__A8.__ ImageDraw objects have shape-drawing methods such as point(), line(), or rectangle().They are returned by passing the Image object to the ImageDraw.Draw() function."
   ]
  }
 ],
 "metadata": {
  "kernelspec": {
   "display_name": "Python 3 (ipykernel)",
   "language": "python",
   "name": "python3"
  },
  "language_info": {
   "codemirror_mode": {
    "name": "ipython",
    "version": 3
   },
   "file_extension": ".py",
   "mimetype": "text/x-python",
   "name": "python",
   "nbconvert_exporter": "python",
   "pygments_lexer": "ipython3",
   "version": "3.8.8"
  }
 },
 "nbformat": 4,
 "nbformat_minor": 5
}
