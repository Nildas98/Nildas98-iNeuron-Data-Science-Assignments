{
 "cells": [
  {
   "cell_type": "markdown",
   "id": "ee8743e8",
   "metadata": {},
   "source": [
    "# Python Assignment_9 Solution"
   ]
  },
  {
   "cell_type": "markdown",
   "id": "e96aee97",
   "metadata": {},
   "source": [
    "SUBMITTED BY: NILUTPAL DAS"
   ]
  },
  {
   "cell_type": "markdown",
   "id": "e50a589e",
   "metadata": {},
   "source": [
    "### Q1. To what does a relative path refer?"
   ]
  },
  {
   "cell_type": "markdown",
   "id": "b2f2c323",
   "metadata": {},
   "source": [
    "__A1.__ Relative paths are relative to the current working directory (PWD)."
   ]
  },
  {
   "cell_type": "markdown",
   "id": "217b4f86",
   "metadata": {},
   "source": [
    "__PWD + relative path = absolute path__"
   ]
  },
  {
   "cell_type": "markdown",
   "id": "514ec178",
   "metadata": {},
   "source": [
    "### Q2. What does an absolute path start with your operating system?"
   ]
  },
  {
   "cell_type": "markdown",
   "id": "168216b3",
   "metadata": {},
   "source": [
    "__A2.__ Absolute paths start with the root folder, such as / or C:\\."
   ]
  },
  {
   "cell_type": "markdown",
   "id": "f3c0fbd9",
   "metadata": {},
   "source": [
    "### Q3. What does the functions os.getcwd() and os.chdir() do ?"
   ]
  },
  {
   "cell_type": "markdown",
   "id": "4ee3381b",
   "metadata": {},
   "source": [
    "__A3.__  The os.getcwd() function returns the current working directory. The os.chdir() function changes the current working directory."
   ]
  },
  {
   "cell_type": "markdown",
   "id": "cbde165d",
   "metadata": {},
   "source": [
    "### Q4. What are . and .. folders ?"
   ]
  },
  {
   "cell_type": "markdown",
   "id": "e39c7967",
   "metadata": {},
   "source": [
    "__A4.__ The Current Directory is represented by . Whereas .. Represents the Parent Directory of the Current Directory."
   ]
  },
  {
   "cell_type": "markdown",
   "id": "d097e337",
   "metadata": {},
   "source": [
    "### Q5. In C:\\bacon\\eggs\\spam.txt which part is the dir name and which part is the base name #"
   ]
  },
  {
   "cell_type": "markdown",
   "id": "74d6103a",
   "metadata": {},
   "source": [
    "__A5.__ C:\\bacon\\eggs is the dir name, while spam.txt is the base name."
   ]
  },
  {
   "cell_type": "code",
   "execution_count": 2,
   "id": "4df02a57",
   "metadata": {},
   "outputs": [
    {
     "name": "stdout",
     "output_type": "stream",
     "text": [
      "C:\\bacon\\eggs\n",
      "spam.txt\n"
     ]
    }
   ],
   "source": [
    "import os\n",
    "path = r'C:\\bacon\\eggs\\spam.txt'\n",
    "print(os.path.dirname(path))\n",
    "print(os.path.basename(path))"
   ]
  },
  {
   "cell_type": "markdown",
   "id": "466c3ff2",
   "metadata": {},
   "source": [
    "### Q6. What are the three mode arguments that can be passed to the open() function ?"
   ]
  },
  {
   "cell_type": "markdown",
   "id": "f33b1e63",
   "metadata": {},
   "source": [
    "__A6.__ A file can be Accessed in python using open() function. Open function takes two arguments filename and mode of operation (optional). If mode is not provided, the default mode of opening is Read mode.\n",
    "So, the syntax is: open(filename, mode)"
   ]
  },
  {
   "cell_type": "markdown",
   "id": "055a7e32",
   "metadata": {},
   "source": [
    "- ‘r’ – Read Mode: This is the default mode for open(). The file is opened and a pointer is positioned at the beginning of the file’s content.\n",
    "- ‘w’ – Write Mode: Using this mode will overwrite any existing content in a file. If the given file does not exist, a new one will be created.\n",
    "- ‘r+’ – Read/Write Mode: Use this mode if you need to simultaneously read and write to a file.\n",
    "- ‘a’ – Append Mode: With this mode the user can append the data without overwriting any already existing data in the file.\n",
    "- ‘a+’ – Append and Read Mode: In this mode you can read and append the data without overwriting the original file.\n",
    "- ‘x’ – Exclusive Creating Mode: This mode is for the sole purpose of creating new files. Use this mode if you know the file to be written doesn’t exist beforehand."
   ]
  },
  {
   "cell_type": "markdown",
   "id": "77335694",
   "metadata": {},
   "source": [
    "### Q7. What happens if an existing file is opened in write mode ?"
   ]
  },
  {
   "cell_type": "markdown",
   "id": "93c9047f",
   "metadata": {},
   "source": [
    "__A7.__ Using this mode, we can overwrite any existing content in a file. If the given file does not exist then a new one will be created."
   ]
  },
  {
   "cell_type": "markdown",
   "id": "67742f65",
   "metadata": {},
   "source": [
    "### Q8. How do you tell the difference between read() and readlines() ?"
   ]
  },
  {
   "cell_type": "markdown",
   "id": "395d7d33",
   "metadata": {},
   "source": [
    "__A8.__ The read() method returns the file’s entire contents as a single string value. The readlines() method returns a list of strings, where each string is a line from the file’s contents."
   ]
  },
  {
   "cell_type": "markdown",
   "id": "bc5e8809",
   "metadata": {},
   "source": [
    "### Q9. What data structure does a shelf value resemble ?"
   ]
  },
  {
   "cell_type": "markdown",
   "id": "939f30ac",
   "metadata": {},
   "source": [
    "__A9.__ A shelf value resembles a dictionary value; it has keys and values, along with keys() and values() methods that work similarly to the dictionary methods of the same names."
   ]
  }
 ],
 "metadata": {
  "kernelspec": {
   "display_name": "Python 3 (ipykernel)",
   "language": "python",
   "name": "python3"
  },
  "language_info": {
   "codemirror_mode": {
    "name": "ipython",
    "version": 3
   },
   "file_extension": ".py",
   "mimetype": "text/x-python",
   "name": "python",
   "nbconvert_exporter": "python",
   "pygments_lexer": "ipython3",
   "version": "3.8.8"
  }
 },
 "nbformat": 4,
 "nbformat_minor": 5
}
