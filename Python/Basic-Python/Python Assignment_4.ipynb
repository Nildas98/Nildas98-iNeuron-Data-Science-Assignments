{
 "cells": [
  {
   "cell_type": "markdown",
   "id": "ea882413",
   "metadata": {},
   "source": [
    "# Python Assignment 4_Solution"
   ]
  },
  {
   "cell_type": "markdown",
   "id": "7c0122d6",
   "metadata": {},
   "source": [
    "SUBMITTED BY: NILUTPAL DAS"
   ]
  },
  {
   "cell_type": "markdown",
   "id": "212cca9a",
   "metadata": {},
   "source": [
    "### Q1. What exactly is []?"
   ]
  },
  {
   "cell_type": "markdown",
   "id": "34f6bc42",
   "metadata": {},
   "source": [
    "__A1.__ Empty list represented by <mark>[]</mark>, it means list that contains no items."
   ]
  },
  {
   "cell_type": "markdown",
   "id": "31478da3",
   "metadata": {},
   "source": [
    "### Q2.In a list of values stored in a variable called spam, how would you assign the value 'hello' as the third value? (Assume [2, 4, 6, 8, 10] are in spam.)"
   ]
  },
  {
   "cell_type": "code",
   "execution_count": 3,
   "id": "f0c8b585",
   "metadata": {},
   "outputs": [
    {
     "name": "stdout",
     "output_type": "stream",
     "text": [
      "[2, 4, 6, 8, 10]\n",
      "[2, 4, 'hello', 8, 10]\n"
     ]
    }
   ],
   "source": [
    "spam=[2,4,6,8,10]\n",
    "print(spam)\n",
    "spam[2]='hello'\n",
    "print(spam)"
   ]
  },
  {
   "cell_type": "markdown",
   "id": "fe8a9d20",
   "metadata": {},
   "source": [
    "### Let's pretend the spam includes the list ['a','b','c',d'] for the next three queries.\n",
    "__Q3.What is the value of spam[int(int('3' * 2) / 11)]?__"
   ]
  },
  {
   "cell_type": "code",
   "execution_count": 4,
   "id": "30389213",
   "metadata": {},
   "outputs": [
    {
     "name": "stdout",
     "output_type": "stream",
     "text": [
      "['a', 'b', 'c', 'd']\n"
     ]
    }
   ],
   "source": [
    "spam=['a','b','c','d']\n",
    "print(spam)"
   ]
  },
  {
   "cell_type": "code",
   "execution_count": 6,
   "id": "80cfec3c",
   "metadata": {},
   "outputs": [
    {
     "data": {
      "text/plain": [
       "'d'"
      ]
     },
     "execution_count": 6,
     "metadata": {},
     "output_type": "execute_result"
    }
   ],
   "source": [
    "spam[int(int('3'*2)/11)]"
   ]
  },
  {
   "cell_type": "markdown",
   "id": "30b8160f",
   "metadata": {},
   "source": [
    "__A3.__ Here ('3'*2) means it is string '33', after that it is passed into int().<br> then it gets divided by 11 which resulted into 3. spam[3] is equal to d."
   ]
  },
  {
   "cell_type": "markdown",
   "id": "57594911",
   "metadata": {},
   "source": [
    "### Q4. What is the value of spam[-1]?"
   ]
  },
  {
   "cell_type": "code",
   "execution_count": 8,
   "id": "e8b9cd3e",
   "metadata": {},
   "outputs": [
    {
     "data": {
      "text/plain": [
       "'d'"
      ]
     },
     "execution_count": 8,
     "metadata": {},
     "output_type": "execute_result"
    }
   ],
   "source": [
    "spam[-1]"
   ]
  },
  {
   "cell_type": "markdown",
   "id": "ec0c8108",
   "metadata": {},
   "source": [
    "__A4.__ Lists support Negative indexing, Hence <mark>spam[-1]</mark> returns <mark>'d'</mark>."
   ]
  },
  {
   "cell_type": "markdown",
   "id": "668d7bd5",
   "metadata": {},
   "source": [
    "### Q5. What is the value of spam[:2]?"
   ]
  },
  {
   "cell_type": "code",
   "execution_count": 9,
   "id": "da57ad9c",
   "metadata": {},
   "outputs": [
    {
     "data": {
      "text/plain": [
       "['a', 'b']"
      ]
     },
     "execution_count": 9,
     "metadata": {},
     "output_type": "execute_result"
    }
   ],
   "source": [
    "spam[:2]"
   ]
  },
  {
   "cell_type": "markdown",
   "id": "a41917d0",
   "metadata": {},
   "source": [
    "__A5.__ slicing operation, it will show elements from the list till 2 excluding 2."
   ]
  },
  {
   "cell_type": "markdown",
   "id": "6095fc01",
   "metadata": {},
   "source": [
    "### Let's pretend bacon has the list [3.14,'cat',11,'cat',True] for the next three question\n",
    "__6. What is the value of bacon.index('cat')?__"
   ]
  },
  {
   "cell_type": "code",
   "execution_count": 16,
   "id": "401c257e",
   "metadata": {},
   "outputs": [
    {
     "name": "stdout",
     "output_type": "stream",
     "text": [
      "[3.14, 'cat', '11', 'cat', True]\n"
     ]
    },
    {
     "data": {
      "text/plain": [
       "1"
      ]
     },
     "execution_count": 16,
     "metadata": {},
     "output_type": "execute_result"
    }
   ],
   "source": [
    "bacon=[3.14,'cat','11','cat',True]\n",
    "print(bacon)\n",
    "bacon.index('cat')"
   ]
  },
  {
   "cell_type": "markdown",
   "id": "c5201657",
   "metadata": {},
   "source": [
    "__A6.__ Here it is showing 1, as the list starts from 0 and the 'cat' is at 1."
   ]
  },
  {
   "cell_type": "markdown",
   "id": "f912216e",
   "metadata": {},
   "source": [
    "### Q7. How does bacon.append(99) change the look of the list value in bacon?"
   ]
  },
  {
   "cell_type": "code",
   "execution_count": 19,
   "id": "e3856bc3",
   "metadata": {},
   "outputs": [
    {
     "name": "stdout",
     "output_type": "stream",
     "text": [
      "[3.14, 'cat', '11', 'cat', True]\n",
      "[3.14, 'cat', '11', 'cat', True, 99]\n"
     ]
    }
   ],
   "source": [
    "bacon=[3.14,'cat','11','cat',True]\n",
    "print(bacon)\n",
    "\n",
    "bacon.append(99)\n",
    "print(bacon)"
   ]
  },
  {
   "cell_type": "markdown",
   "id": "e2a32e8b",
   "metadata": {},
   "source": [
    "__A7.__ Here using <mark>append</mark> method we are adding 99 into the list bacon."
   ]
  },
  {
   "cell_type": "markdown",
   "id": "ca1deec4",
   "metadata": {},
   "source": [
    "### Q8. How does bacon.remove('cat') change the look of the list in bacon?"
   ]
  },
  {
   "cell_type": "code",
   "execution_count": 20,
   "id": "cb1a5426",
   "metadata": {},
   "outputs": [
    {
     "name": "stdout",
     "output_type": "stream",
     "text": [
      "[3.14, 'cat', '11', 'cat', True]\n",
      "[3.14, '11', 'cat', True]\n"
     ]
    }
   ],
   "source": [
    "bacon=[3.14,'cat','11','cat',True]\n",
    "print(bacon)\n",
    "\n",
    "bacon.remove('cat')\n",
    "print(bacon)"
   ]
  },
  {
   "cell_type": "markdown",
   "id": "3ccc562c",
   "metadata": {},
   "source": [
    "__A8.__ Here using <mark>remove</mark> method removes the element <mark>'cat'</mark> from list bacon."
   ]
  },
  {
   "cell_type": "markdown",
   "id": "62bec2e3",
   "metadata": {},
   "source": [
    "### Q9.what are the list concatenation and list replication operations?"
   ]
  },
  {
   "cell_type": "code",
   "execution_count": 24,
   "id": "8c1cd6fb",
   "metadata": {},
   "outputs": [
    {
     "name": "stdout",
     "output_type": "stream",
     "text": [
      "['My name is', 'Nilutpal', 'Das']\n",
      "['My name is', 'My name is']\n"
     ]
    }
   ],
   "source": [
    "list_1=['My name is']\n",
    "list_2=['Nilutpal', 'Das']\n",
    "print(list_1+list_2)\n",
    "print(list_1*2)"
   ]
  },
  {
   "cell_type": "markdown",
   "id": "140b1357",
   "metadata": {},
   "source": [
    "__A9.__ Here in the above code it is showing that using <mark>+</mark> concatenation operation is performed.<br>\n",
    "Using <mark>*</mark> replication operation is preformed."
   ]
  },
  {
   "cell_type": "markdown",
   "id": "72fe4dbf",
   "metadata": {},
   "source": [
    "### Q10.what is the difference between the list method append() and insert()?"
   ]
  },
  {
   "cell_type": "code",
   "execution_count": 27,
   "id": "a3afe02e",
   "metadata": {},
   "outputs": [
    {
     "name": "stdout",
     "output_type": "stream",
     "text": [
      "[3.14, 'cat', '11', 'cat', True]\n",
      "[3.14, 'cat', '11', 'cat', True, 'dog']\n",
      "[3.14, 'cat', 'mouse', '11', 'cat', True, 'dog']\n"
     ]
    }
   ],
   "source": [
    "bacon=[3.14,'cat','11','cat',True]\n",
    "print(bacon)\n",
    "\n",
    "bacon.append('dog')\n",
    "print(bacon)\n",
    "\n",
    "bacon.insert(2,'mouse')\n",
    "print(bacon)"
   ]
  },
  {
   "cell_type": "markdown",
   "id": "5d2f9bf6",
   "metadata": {},
   "source": [
    "__A10.__ Here from the above code it is clear that <mark>append</mark> method adds elements at the end of the list.<br>\n",
    "<mark>insert</mark> method adds element at any particular location."
   ]
  },
  {
   "cell_type": "markdown",
   "id": "b72a2d6c",
   "metadata": {},
   "source": [
    "### Q11. What are the two methods for removing items from a list?"
   ]
  },
  {
   "cell_type": "markdown",
   "id": "acd063fc",
   "metadata": {},
   "source": [
    "__A11.__ For removing items from the list we uses two methods, <mark>del</mark> statement and <mark>remove</mark>."
   ]
  },
  {
   "cell_type": "code",
   "execution_count": 33,
   "id": "d5defe25",
   "metadata": {},
   "outputs": [
    {
     "name": "stdout",
     "output_type": "stream",
     "text": [
      "[3.14, 'cat', '11', 'cat', True]\n",
      "[3.14, '11', 'cat', True]\n",
      "[3.14, '11', True]\n"
     ]
    }
   ],
   "source": [
    "bacon=[3.14,'cat','11','cat',True]\n",
    "print(bacon)\n",
    "\n",
    "bacon.remove('cat')\n",
    "print(bacon)\n",
    "\n",
    "del bacon[2]\n",
    "print(bacon)"
   ]
  },
  {
   "cell_type": "markdown",
   "id": "87e73430",
   "metadata": {},
   "source": [
    "### Q12. Describe how list values and string values are identical."
   ]
  },
  {
   "cell_type": "markdown",
   "id": "3a856dc9",
   "metadata": {},
   "source": [
    "__A12.__ Both <mark>lists</mark> and <mark>strings</mark> can be passed to <mark>len()</mark>, have <mark>indexes</mark> and <mark>slices</mark>, be used in <mark>for loops</mark>, be <mark>concatenated</mark> or <mark>replicated</mark>, and be used with the <mark>in</mark> and <mark>not in</mark> operators."
   ]
  },
  {
   "cell_type": "markdown",
   "id": "1723794c",
   "metadata": {},
   "source": [
    "### Q13. What's the difference between tuples and lists?"
   ]
  },
  {
   "cell_type": "markdown",
   "id": "9b29f22b",
   "metadata": {},
   "source": [
    "__A13.__ Lists are Mutable, Indexable and Slicable. values can be added , removed or changed.<br> \n",
    "Tuples are Immutable but Indexable and Slicable.<br> \n",
    "The tuple values cannot be changed at all.<br> \n",
    "Also, tuples are represented using parentheses, (), while lists use the square brackets, []."
   ]
  },
  {
   "cell_type": "markdown",
   "id": "9f5a8733",
   "metadata": {},
   "source": [
    "### Q14. How do you type a tuple value that only contains the integer 42?"
   ]
  },
  {
   "cell_type": "code",
   "execution_count": 44,
   "id": "c76900a1",
   "metadata": {},
   "outputs": [
    {
     "data": {
      "text/plain": [
       "(42,)"
      ]
     },
     "execution_count": 44,
     "metadata": {},
     "output_type": "execute_result"
    }
   ],
   "source": [
    "(42,)"
   ]
  },
  {
   "cell_type": "code",
   "execution_count": 41,
   "id": "f9dd780d",
   "metadata": {},
   "outputs": [
    {
     "name": "stdout",
     "output_type": "stream",
     "text": [
      "<class 'int'>\n",
      "<class 'tuple'>\n"
     ]
    }
   ],
   "source": [
    "tup1=(42)\n",
    "tup2=(42,)\n",
    "print(type(tup1))\n",
    "print(type(tup2))"
   ]
  },
  {
   "cell_type": "markdown",
   "id": "d0e408b4",
   "metadata": {},
   "source": [
    "__A14.__ Using ',' will show type a tuple value that only contains the integer 42.<br> Because without ',' python interpreter will consider as a int."
   ]
  },
  {
   "cell_type": "markdown",
   "id": "136eaf30",
   "metadata": {},
   "source": [
    "### Q15. How do you get a list value's tuple form? How do you get a tuple value's list form?"
   ]
  },
  {
   "cell_type": "markdown",
   "id": "537898c8",
   "metadata": {},
   "source": [
    "__A15.__ Using their repective functions, i.e. <mark>list()</mark> and <mark>tuple()</mark>."
   ]
  },
  {
   "cell_type": "markdown",
   "id": "2ed97ce7",
   "metadata": {},
   "source": [
    "### Q16. Variables that \"contain\" list values are not necessarily lists themselves. Instead, what do they contain?"
   ]
  },
  {
   "cell_type": "markdown",
   "id": "01f6f029",
   "metadata": {},
   "source": [
    "__A16.__ They contain references to list values."
   ]
  },
  {
   "cell_type": "markdown",
   "id": "99703809",
   "metadata": {},
   "source": [
    "### Q17. How do you distinguish between copy.copy() and copy.deepcopy()?"
   ]
  },
  {
   "cell_type": "markdown",
   "id": "fb651917",
   "metadata": {},
   "source": [
    "__A17.__ The <mark>copy.copy()</mark> function will do a shallow copy of a list,<br> while the <mark>copy.deepcopy()</mark> function will do a deep copy of a list.<br> That is, only <mark>copy.deepcopy()</mark> will duplicate any lists inside the list."
   ]
  }
 ],
 "metadata": {
  "kernelspec": {
   "display_name": "Python 3 (ipykernel)",
   "language": "python",
   "name": "python3"
  },
  "language_info": {
   "codemirror_mode": {
    "name": "ipython",
    "version": 3
   },
   "file_extension": ".py",
   "mimetype": "text/x-python",
   "name": "python",
   "nbconvert_exporter": "python",
   "pygments_lexer": "ipython3",
   "version": "3.8.8"
  }
 },
 "nbformat": 4,
 "nbformat_minor": 5
}
