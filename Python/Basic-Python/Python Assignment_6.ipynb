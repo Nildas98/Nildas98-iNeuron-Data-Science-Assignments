{
 "cells": [
  {
   "cell_type": "markdown",
   "id": "b6fbe632",
   "metadata": {},
   "source": [
    "# Python Assignment_6 Solution"
   ]
  },
  {
   "cell_type": "markdown",
   "id": "c93b8df6",
   "metadata": {},
   "source": [
    "SUBMITTED BY: NILUTPAL DAS"
   ]
  },
  {
   "cell_type": "markdown",
   "id": "65dc1e41",
   "metadata": {},
   "source": [
    "### Q1. What are escape characters, and how do you use them?"
   ]
  },
  {
   "cell_type": "markdown",
   "id": "7b5fd753",
   "metadata": {},
   "source": [
    "__A1.__ Escape characters represent characters in string values that would otherwise be difficult or impossible to type into code."
   ]
  },
  {
   "cell_type": "code",
   "execution_count": 1,
   "id": "274925bb",
   "metadata": {},
   "outputs": [
    {
     "data": {
      "text/plain": [
       "'best \"data science course\" available in the market'"
      ]
     },
     "execution_count": 1,
     "metadata": {},
     "output_type": "execute_result"
    }
   ],
   "source": [
    "# example - \\n -new line , \\t - tab, \\\" - single quote\n",
    "text = \"best \\\"data science course\\\" available in the market\"\n",
    "text"
   ]
  },
  {
   "cell_type": "markdown",
   "id": "e4d68389",
   "metadata": {},
   "source": [
    "### Q2.What do the escape characters n and t stand for ?"
   ]
  },
  {
   "cell_type": "markdown",
   "id": "1d56e22c",
   "metadata": {},
   "source": [
    "__A2.__ <mark>\\n</mark> - newline , <mark>\\t</mark> - tab"
   ]
  },
  {
   "cell_type": "code",
   "execution_count": 2,
   "id": "0b2fd25b",
   "metadata": {},
   "outputs": [
    {
     "name": "stdout",
     "output_type": "stream",
     "text": [
      "best \"data science course\" \n",
      "available in the market\n",
      "--------------------------------------------------------\n",
      "best \"data science course\" \tavailable in the market\n"
     ]
    }
   ],
   "source": [
    "text = \"best \\\"data science course\\\" \\navailable in the market\"\n",
    "print(text)\n",
    "\n",
    "print(\"--------------------------------------------------------\")\n",
    "\n",
    "text1 = \"best \\\"data science course\\\" \\tavailable in the market\"\n",
    "print(text1)"
   ]
  },
  {
   "cell_type": "markdown",
   "id": "e7be4c2f",
   "metadata": {},
   "source": [
    "### Q3.What is the way to include backslash character in a string?"
   ]
  },
  {
   "cell_type": "markdown",
   "id": "c1b0fb10",
   "metadata": {},
   "source": [
    "__A3.__ Use <mark>\\\\\\\\</mark> double backslash to use backslash in a string."
   ]
  },
  {
   "cell_type": "markdown",
   "id": "3fc65858",
   "metadata": {},
   "source": [
    "### Q4.The string \"Howl's Moving Castle\" is a correct value. Why isn't the single quote character in the word Howl's not escaped a problem ?"
   ]
  },
  {
   "cell_type": "markdown",
   "id": "be673276",
   "metadata": {},
   "source": [
    "__A4.__ The string <mark>\"Howl's Moving Castle\"</mark> escaped the quote problem by wrapping inside the double quotes. Otherwise it will create problem"
   ]
  },
  {
   "cell_type": "markdown",
   "id": "74d10794",
   "metadata": {},
   "source": [
    "### Q5.How do you write a string of newlines if you don't want to use the n character?"
   ]
  },
  {
   "cell_type": "markdown",
   "id": "e37bd946",
   "metadata": {},
   "source": [
    "__A5.__ In multiline strings can be run without using newline escape character <mark>\\n</mark>"
   ]
  },
  {
   "cell_type": "code",
   "execution_count": 3,
   "id": "973a0306",
   "metadata": {},
   "outputs": [
    {
     "name": "stdout",
     "output_type": "stream",
     "text": [
      "best data science\n",
      "course available in the market\n"
     ]
    }
   ],
   "source": [
    "text = \"\"\"best data science\n",
    "course available in the market\"\"\"\n",
    "print(text)"
   ]
  },
  {
   "cell_type": "markdown",
   "id": "f805e2f5",
   "metadata": {},
   "source": [
    "### Q6. What are the values of the given expressions?"
   ]
  },
  {
   "cell_type": "markdown",
   "id": "5e9644a6",
   "metadata": {},
   "source": [
    "__A6.__\n",
    "- 'Hello, world!'[1]\n",
    "- 'Hello, world!'[0:5]\n",
    "- 'Hello, world!'[:5]\n",
    "- 'Hello, world!'[3:]"
   ]
  },
  {
   "cell_type": "code",
   "execution_count": 4,
   "id": "ea8fbc28",
   "metadata": {},
   "outputs": [
    {
     "data": {
      "text/plain": [
       "'e'"
      ]
     },
     "execution_count": 4,
     "metadata": {},
     "output_type": "execute_result"
    }
   ],
   "source": [
    "'Hello, world!'[1]"
   ]
  },
  {
   "cell_type": "code",
   "execution_count": 5,
   "id": "b8b946a4",
   "metadata": {},
   "outputs": [
    {
     "data": {
      "text/plain": [
       "'Hello'"
      ]
     },
     "execution_count": 5,
     "metadata": {},
     "output_type": "execute_result"
    }
   ],
   "source": [
    "'Hello, world!'[0:5]"
   ]
  },
  {
   "cell_type": "code",
   "execution_count": 6,
   "id": "b2858cd2",
   "metadata": {},
   "outputs": [
    {
     "data": {
      "text/plain": [
       "'Hello'"
      ]
     },
     "execution_count": 6,
     "metadata": {},
     "output_type": "execute_result"
    }
   ],
   "source": [
    "'Hello, world!'[:5]"
   ]
  },
  {
   "cell_type": "code",
   "execution_count": 7,
   "id": "1062325f",
   "metadata": {},
   "outputs": [
    {
     "data": {
      "text/plain": [
       "'lo, world!'"
      ]
     },
     "execution_count": 7,
     "metadata": {},
     "output_type": "execute_result"
    }
   ],
   "source": [
    "'Hello, world!'[3:]"
   ]
  },
  {
   "cell_type": "markdown",
   "id": "2392276d",
   "metadata": {},
   "source": [
    "### Q7. What are the values of the following expressions?"
   ]
  },
  {
   "cell_type": "markdown",
   "id": "20b6b27c",
   "metadata": {},
   "source": [
    "__A7.__\n",
    "- 'Hello'.upper()\n",
    "- 'Hello'.upper().isupper()\n",
    "- 'Hello'.upper().lower()"
   ]
  },
  {
   "cell_type": "code",
   "execution_count": 8,
   "id": "14bc6fc2",
   "metadata": {},
   "outputs": [
    {
     "data": {
      "text/plain": [
       "'HELLO'"
      ]
     },
     "execution_count": 8,
     "metadata": {},
     "output_type": "execute_result"
    }
   ],
   "source": [
    "'Hello'.upper()"
   ]
  },
  {
   "cell_type": "code",
   "execution_count": 9,
   "id": "7f07ac04",
   "metadata": {},
   "outputs": [
    {
     "data": {
      "text/plain": [
       "True"
      ]
     },
     "execution_count": 9,
     "metadata": {},
     "output_type": "execute_result"
    }
   ],
   "source": [
    "'Hello'.upper().isupper()"
   ]
  },
  {
   "cell_type": "code",
   "execution_count": 10,
   "id": "e51592d5",
   "metadata": {},
   "outputs": [
    {
     "data": {
      "text/plain": [
       "'hello'"
      ]
     },
     "execution_count": 10,
     "metadata": {},
     "output_type": "execute_result"
    }
   ],
   "source": [
    "'Hello'.upper().lower()"
   ]
  },
  {
   "cell_type": "markdown",
   "id": "e655a3af",
   "metadata": {},
   "source": [
    "### Q8. What are the values of the following expressions?"
   ]
  },
  {
   "cell_type": "markdown",
   "id": "066d643f",
   "metadata": {},
   "source": [
    "__A8.__ 'Remember, remember, the fifth of July.'.split()<br>\n",
    "'-'.join('There can only one.'.split())"
   ]
  },
  {
   "cell_type": "code",
   "execution_count": 11,
   "id": "9957fc8d",
   "metadata": {},
   "outputs": [
    {
     "data": {
      "text/plain": [
       "['Remember,', 'remember,', 'the', 'fifth', 'of', 'July.']"
      ]
     },
     "execution_count": 11,
     "metadata": {},
     "output_type": "execute_result"
    }
   ],
   "source": [
    "'Remember, remember, the fifth of July.'.split()"
   ]
  },
  {
   "cell_type": "code",
   "execution_count": 12,
   "id": "82f855f8",
   "metadata": {},
   "outputs": [
    {
     "data": {
      "text/plain": [
       "'There-can-only-one.'"
      ]
     },
     "execution_count": 12,
     "metadata": {},
     "output_type": "execute_result"
    }
   ],
   "source": [
    "'-'.join('There can only one.'.split())"
   ]
  },
  {
   "cell_type": "markdown",
   "id": "76561877",
   "metadata": {},
   "source": [
    "### Q9. What are the methods for right-justifying, left-justifying, and centering a string?"
   ]
  },
  {
   "cell_type": "markdown",
   "id": "1e5a4f1a",
   "metadata": {},
   "source": [
    "__A9.__ The <mark>rjust()</mark>, <mark>ljust()</mark>, and <mark>center()</mark> string methods, respectively are the methods for right-justifying, left-justifying, and centering a string"
   ]
  },
  {
   "cell_type": "code",
   "execution_count": 23,
   "id": "56aaeebd",
   "metadata": {},
   "outputs": [
    {
     "name": "stdout",
     "output_type": "stream",
     "text": [
      "       ineuron, best data science course \n",
      "\n",
      "*******ineuron, best data science course\n"
     ]
    }
   ],
   "source": [
    "text = \"ineuron, best data science course\"\n",
    "print(text.rjust(40), \"\\n\")\n",
    "print(text.rjust(40, \"*\"))"
   ]
  },
  {
   "cell_type": "code",
   "execution_count": 24,
   "id": "30d802a2",
   "metadata": {},
   "outputs": [
    {
     "name": "stdout",
     "output_type": "stream",
     "text": [
      "ineuron, best data science course        \n",
      "\n",
      "ineuron, best data science course*******\n"
     ]
    }
   ],
   "source": [
    "text = \"ineuron, best data science course\"\n",
    "print(text.ljust(40), \"\\n\")\n",
    "print(text.ljust(40, \"*\"))"
   ]
  },
  {
   "cell_type": "code",
   "execution_count": 25,
   "id": "62f5a6ee",
   "metadata": {},
   "outputs": [
    {
     "name": "stdout",
     "output_type": "stream",
     "text": [
      "   ineuron, best data science course     \n",
      "\n",
      "***ineuron, best data science course****\n"
     ]
    }
   ],
   "source": [
    "text = \"ineuron, best data science course\"\n",
    "print(text.center(40), \"\\n\")\n",
    "print(text.center(40, \"*\"))"
   ]
  },
  {
   "cell_type": "markdown",
   "id": "20d952ee",
   "metadata": {},
   "source": [
    "### Q10. What is the best way to remove whitespace characters from the start or end?"
   ]
  },
  {
   "cell_type": "markdown",
   "id": "997d2257",
   "metadata": {},
   "source": [
    "__A10.__ The <mark>lstrip()</mark> and <mark>rstrip()</mark> methods remove whitesapce characters from the left and right ends of a string respectively"
   ]
  },
  {
   "cell_type": "code",
   "execution_count": 28,
   "id": "795dcbdf",
   "metadata": {},
   "outputs": [
    {
     "name": "stdout",
     "output_type": "stream",
     "text": [
      "ineuron, best data science course****\n"
     ]
    }
   ],
   "source": [
    "text = \"****ineuron, best data science course****\"\n",
    "print(text.lstrip(\"*\"))"
   ]
  },
  {
   "cell_type": "code",
   "execution_count": 29,
   "id": "2f88dc94",
   "metadata": {},
   "outputs": [
    {
     "name": "stdout",
     "output_type": "stream",
     "text": [
      "****ineuron, best data science course\n"
     ]
    }
   ],
   "source": [
    "text = \"****ineuron, best data science course****\"\n",
    "print(text.rstrip(\"*\"))"
   ]
  },
  {
   "cell_type": "code",
   "execution_count": null,
   "id": "13485a7d",
   "metadata": {},
   "outputs": [],
   "source": []
  }
 ],
 "metadata": {
  "kernelspec": {
   "display_name": "Python 3 (ipykernel)",
   "language": "python",
   "name": "python3"
  },
  "language_info": {
   "codemirror_mode": {
    "name": "ipython",
    "version": 3
   },
   "file_extension": ".py",
   "mimetype": "text/x-python",
   "name": "python",
   "nbconvert_exporter": "python",
   "pygments_lexer": "ipython3",
   "version": "3.8.8"
  }
 },
 "nbformat": 4,
 "nbformat_minor": 5
}
