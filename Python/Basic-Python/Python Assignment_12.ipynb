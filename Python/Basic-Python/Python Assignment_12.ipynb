{
 "cells": [
  {
   "cell_type": "markdown",
   "id": "ae393c1e",
   "metadata": {},
   "source": [
    "# Python Assignment_12 Solution"
   ]
  },
  {
   "cell_type": "markdown",
   "id": "2581153c",
   "metadata": {},
   "source": [
    "SUBMITTED BY: NILUTPAL DAS"
   ]
  },
  {
   "cell_type": "markdown",
   "id": "fbc54e2e",
   "metadata": {},
   "source": [
    "### Q1. In what modes should the PdfFileReader() and PdfFileWriter() File objects will be opened?"
   ]
  },
  {
   "cell_type": "markdown",
   "id": "bac6fe0c",
   "metadata": {},
   "source": [
    "__A1.__ For __PdfFileReader()__ file objects WILL be opened in rb -> read binary mode, Whereas for __PdfFileWriter()__ file objects WILL be opened in wb -> write binary mode."
   ]
  },
  {
   "cell_type": "code",
   "execution_count": null,
   "id": "da576757",
   "metadata": {},
   "outputs": [],
   "source": [
    "# Example Code:\n",
    "from PyPDF2 import PdfFileReader\n",
    "pdf_reader = PdfFileReader(file_path)\n",
    "for page in pdf_reader.getNumPages():\n",
    "    pdf_reader.getPage(page)"
   ]
  },
  {
   "cell_type": "markdown",
   "id": "330fd1ca",
   "metadata": {},
   "source": [
    "### Q2. From a PdfFileReader object, how do you get a Page object for page 5?"
   ]
  },
  {
   "cell_type": "markdown",
   "id": "f249b290",
   "metadata": {},
   "source": [
    "__A2.__ ___PdfFileReader__ class provides a method called ___getPage(page_no)__ to get a page object. Calling getPage(4) will return a page object for page 5, since page 0 is the first page."
   ]
  },
  {
   "cell_type": "markdown",
   "id": "8233fb30",
   "metadata": {},
   "source": [
    "### Q3. What PdfFileReader variable stores the number of pages in the PDF document?"
   ]
  },
  {
   "cell_type": "markdown",
   "id": "07d2ba6b",
   "metadata": {},
   "source": [
    "__A3.__ The total number of pages in the document is stored in the numPages variable of a PdfFileReader object."
   ]
  },
  {
   "cell_type": "code",
   "execution_count": null,
   "id": "01ec2e9d",
   "metadata": {},
   "outputs": [],
   "source": [
    "#Example Code:\n",
    "from PyPDF2 import PdfFileReader\n",
    "pdf_reader = PdfFileReader(file_path)\n",
    "print(pdf_reader.getNumPages()) # Prints the no of pages in a input document"
   ]
  },
  {
   "cell_type": "markdown",
   "id": "008cdb29",
   "metadata": {},
   "source": [
    "### Q4. If a PdfFileReader object’s PDF is encrypted with the password swordfish, what must you do before you can obtain Page objects from it?"
   ]
  },
  {
   "cell_type": "markdown",
   "id": "32cf0fce",
   "metadata": {},
   "source": [
    "__A4.__ If a __PdfFileReader___ object’s PDF is encrypted with the password __swordfish__ and we are not aware of it, we will first read the Pdf using the PdfFileReader Class. PdfFileReader class provides a attribute called __isEncrypted__ to check whether a pdf is encrypted or not. The method returns true if a pdf is encrypted and vice versa.\n",
    "If pdf is encrypted we will use the __decrypt()__ method provided by PdfFileReader class and then we will try to read the contents/pages of the pdf, else __PyPDF2__ will raise the following error\n",
    "__PyPDF2.utils.PdfReadError: file has not been decrypted___"
   ]
  },
  {
   "cell_type": "code",
   "execution_count": null,
   "id": "45db35f9",
   "metadata": {},
   "outputs": [],
   "source": [
    "#Example Code:\n",
    "from PyPDF2 import PdfFileReader\n",
    "pdf_reader = PdfFileReader(file_path)\n",
    "if pdf_reader.isEncrypted: # to check whether the pdf is encrypted or not\n",
    "    pdf_reader.decrypt(\"swordfish\")\n",
    "for page in pdf_reader.pages:\n",
    "    print(page.extractText()) # to print the text data of a page from pdf"
   ]
  },
  {
   "cell_type": "markdown",
   "id": "c3f702b7",
   "metadata": {},
   "source": [
    "### Q5. What methods do you use to rotate a page?"
   ]
  },
  {
   "cell_type": "markdown",
   "id": "3e242fd7",
   "metadata": {},
   "source": [
    "__A5.__ PyPDF2 Package provides 2 methods to rotate a page:\n",
    "\n",
    "- __rotateClockWise()__ -> For Clockwise rotation\n",
    "- __rotateCounterClockWise()__ -> For Counter Clockwise rotation"
   ]
  },
  {
   "cell_type": "markdown",
   "id": "822ec89d",
   "metadata": {},
   "source": [
    "### Q6. What is the difference between a Run object and a Paragraph object?"
   ]
  },
  {
   "cell_type": "markdown",
   "id": "9e47864c",
   "metadata": {},
   "source": [
    "__A6.__ The structure of a document is represented by three different data types in python-Docx. At the highest level, a Document object represents the entire document. The Document object contains a list of Paragraph objects for the paragraphs in the document. (A new paragraph begins whenever the user presses ENTER or RETURN while typing in a Word document.) Each of these Paragraph objects contains a list of one or more Run objects.\n",
    "\n",
    "The text in a Word document is more than just a string. It has font, size, color, and other styling information associated with it. A style in Word is a collection of these attributes. A Run object is a contiguous run of text with the same style. A new Run object is needed whenever the text style changes."
   ]
  },
  {
   "cell_type": "markdown",
   "id": "e0ac2091",
   "metadata": {},
   "source": [
    "### Q7. How do you obtain a list of Paragraph objects for a Document object that’s stored in a variable named doc?"
   ]
  },
  {
   "cell_type": "code",
   "execution_count": null,
   "id": "cfa80021",
   "metadata": {},
   "outputs": [],
   "source": [
    "# Example Program\n",
    "from docx import Document\n",
    "doc = Document(\"sample_file.docx\") # Path of the Docx file\n",
    "print(doc.paragraphs) # Prints the list of Paragraph objects for a Document\n",
    "for paragraph in doc.paragraphs:\n",
    "    print(paragraph.text) # Prints the text in the paragraph"
   ]
  },
  {
   "cell_type": "markdown",
   "id": "39826564",
   "metadata": {},
   "source": [
    "### Q8. What type of object has bold, underline, italic, strike, and outline variables?"
   ]
  },
  {
   "cell_type": "markdown",
   "id": "6813c098",
   "metadata": {},
   "source": [
    "__A8.__ __Run__ object has bold, underline, italic, strike, and outline variables. The text in a Word document is more than just a string."
   ]
  },
  {
   "cell_type": "markdown",
   "id": "1a4c3842",
   "metadata": {},
   "source": [
    "### Q9. What is the difference between False, True, and None for the bold variable?"
   ]
  },
  {
   "cell_type": "markdown",
   "id": "403ccc18",
   "metadata": {},
   "source": [
    "__A9.__\n",
    "- bold = True  # Style Set to Bold\n",
    "- bold = False # Style Not Set to Bold\n",
    "- bold = None # Style is Not Applicable"
   ]
  },
  {
   "cell_type": "markdown",
   "id": "d548145e",
   "metadata": {},
   "source": [
    "### Q10. How do you create a Document object for a new Word document?"
   ]
  },
  {
   "cell_type": "code",
   "execution_count": null,
   "id": "978fc347",
   "metadata": {},
   "outputs": [],
   "source": [
    "# Example Program\n",
    "from docx import Document\n",
    "document = Document()\n",
    "document.add_paragraph(\"Data science is the coolest job of 21st century\") # paragraph that you wanted to save\n",
    "document.save('mydocument.docx') # saving the paragraph in a document file"
   ]
  },
  {
   "cell_type": "markdown",
   "id": "163a3266",
   "metadata": {},
   "source": [
    "### Q11. How do you add a paragraph with the text 'Hello, there!' to a Document object stored in a variable named doc?"
   ]
  },
  {
   "cell_type": "code",
   "execution_count": null,
   "id": "25167d2f",
   "metadata": {},
   "outputs": [],
   "source": [
    "# Example Program\n",
    "from docx import Document\n",
    "doc = Document()\n",
    "doc.add_paragraph('Hello, there!')\n",
    "doc.save('hello.docx')"
   ]
  },
  {
   "cell_type": "markdown",
   "id": "68579730",
   "metadata": {},
   "source": [
    "### Q12. What integers represent the levels of headings available in Word documents?"
   ]
  },
  {
   "cell_type": "markdown",
   "id": "13bedb30",
   "metadata": {},
   "source": [
    "__A12.__ The arguments to add_heading() are a string of the heading text and an integer from 0 to 4. The integer 0 makes the heading the Title style, which is used for the top of the document. Integers 1 to 4 are for various heading levels, with 1 being the main heading and 4 the lowest subheading. The add_heading() function returns a Paragraph object to save you the step of extracting it from the Document object as a separate step."
   ]
  }
 ],
 "metadata": {
  "kernelspec": {
   "display_name": "Python 3 (ipykernel)",
   "language": "python",
   "name": "python3"
  },
  "language_info": {
   "codemirror_mode": {
    "name": "ipython",
    "version": 3
   },
   "file_extension": ".py",
   "mimetype": "text/x-python",
   "name": "python",
   "nbconvert_exporter": "python",
   "pygments_lexer": "ipython3",
   "version": "3.8.8"
  }
 },
 "nbformat": 4,
 "nbformat_minor": 5
}
