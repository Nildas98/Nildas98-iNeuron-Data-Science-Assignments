{
 "cells": [
  {
   "cell_type": "markdown",
   "id": "4e92d137",
   "metadata": {},
   "source": [
    "# Python Assignment_2 Solution"
   ]
  },
  {
   "cell_type": "markdown",
   "id": "e1cc2ab0",
   "metadata": {},
   "source": [
    "SUBMITTED BY: NILUTPAL DAS"
   ]
  },
  {
   "cell_type": "markdown",
   "id": "6449e9f0",
   "metadata": {},
   "source": [
    "### Q1.What are the two values of the Boolean data type? How do you write them?"
   ]
  },
  {
   "cell_type": "markdown",
   "id": "f26811bf",
   "metadata": {},
   "source": [
    "__A1.__ Two values of Boolean data types are <mark>True</mark> and <mark>False</mark>."
   ]
  },
  {
   "cell_type": "code",
   "execution_count": 15,
   "id": "a1182cc7",
   "metadata": {},
   "outputs": [
    {
     "name": "stdout",
     "output_type": "stream",
     "text": [
      "False\n",
      "True\n",
      "False\n",
      "False\n",
      "False\n",
      "True\n"
     ]
    }
   ],
   "source": [
    "l=[1,2,3,4,5,2]\n",
    "for i in l:\n",
    "    if i==2:\n",
    "        print(True)\n",
    "    else:\n",
    "        print(False)"
   ]
  },
  {
   "cell_type": "markdown",
   "id": "af9cc28d",
   "metadata": {},
   "source": [
    "__Observation:__ Here from the above code we can see that whenever in the list l '2' is present it shows True and rest of the time False. "
   ]
  },
  {
   "cell_type": "markdown",
   "id": "5d9b9a63",
   "metadata": {},
   "source": [
    "### Q2. What are the three different types of Boolean operators?"
   ]
  },
  {
   "cell_type": "markdown",
   "id": "6504be51",
   "metadata": {},
   "source": [
    "__A2.__  AND, OR and NOT. "
   ]
  },
  {
   "cell_type": "code",
   "execution_count": 27,
   "id": "73175e6a",
   "metadata": {},
   "outputs": [
    {
     "name": "stdout",
     "output_type": "stream",
     "text": [
      "True\n",
      "True\n",
      "False\n"
     ]
    }
   ],
   "source": [
    "a=40\n",
    "b=30\n",
    "print(a>30 and b>20) #example of Boolean operator AND\n",
    "print(a>30 or b>30) #example of Boolean operator OR\n",
    "print(not(a>10)) #example of Boolean operator NOT"
   ]
  },
  {
   "cell_type": "markdown",
   "id": "2e8f2059",
   "metadata": {},
   "source": [
    "### Q3. Make a list of each Boolean operator&#39;s truth tables (i.e. every possible combination of Boolean values for the operator and what it evaluate )."
   ]
  },
  {
   "cell_type": "markdown",
   "id": "5a1c91b1",
   "metadata": {},
   "source": [
    "__A3.__ Boolean truth tables are as follows:"
   ]
  },
  {
   "cell_type": "markdown",
   "id": "c4065ec8",
   "metadata": {},
   "source": [
    "- __Truth tables for <mark>and</mark> operator__<br>\n",
    "True and True -- True<br>\n",
    "True and False -- False<br>\n",
    "False and True -- False<br>\n",
    "False and False -- False<br>"
   ]
  },
  {
   "cell_type": "markdown",
   "id": "a106dc27",
   "metadata": {},
   "source": [
    "- __Truth tables for <mark>or</mark> operator__<br>\n",
    "True or True -- True<br>\n",
    "True or False -- True<br>\n",
    "False or True -- True<br>\n",
    "False or False -- False<br>"
   ]
  },
  {
   "cell_type": "markdown",
   "id": "7402bd7b",
   "metadata": {},
   "source": [
    "- __Truth tables for <mark>not</mark> operator__<br>\n",
    "not True -- False<br>\n",
    "not False -- True<br>"
   ]
  },
  {
   "cell_type": "markdown",
   "id": "0b67d047",
   "metadata": {},
   "source": [
    "### Q4. What are the values of the following expressions?"
   ]
  },
  {
   "cell_type": "code",
   "execution_count": 29,
   "id": "25cd45e8",
   "metadata": {},
   "outputs": [
    {
     "data": {
      "text/plain": [
       "False"
      ]
     },
     "execution_count": 29,
     "metadata": {},
     "output_type": "execute_result"
    }
   ],
   "source": [
    "(5 > 4) and (3 == 5)"
   ]
  },
  {
   "cell_type": "code",
   "execution_count": 30,
   "id": "36f9ed78",
   "metadata": {},
   "outputs": [
    {
     "data": {
      "text/plain": [
       "False"
      ]
     },
     "execution_count": 30,
     "metadata": {},
     "output_type": "execute_result"
    }
   ],
   "source": [
    "not (5 > 4)"
   ]
  },
  {
   "cell_type": "code",
   "execution_count": 31,
   "id": "d8515bf8",
   "metadata": {},
   "outputs": [
    {
     "data": {
      "text/plain": [
       "True"
      ]
     },
     "execution_count": 31,
     "metadata": {},
     "output_type": "execute_result"
    }
   ],
   "source": [
    "(5 > 4) or (3 == 5)"
   ]
  },
  {
   "cell_type": "code",
   "execution_count": 32,
   "id": "c0279993",
   "metadata": {},
   "outputs": [
    {
     "data": {
      "text/plain": [
       "False"
      ]
     },
     "execution_count": 32,
     "metadata": {},
     "output_type": "execute_result"
    }
   ],
   "source": [
    "not ((5 > 4) or (3 == 5))"
   ]
  },
  {
   "cell_type": "code",
   "execution_count": 33,
   "id": "f82cf7a4",
   "metadata": {},
   "outputs": [
    {
     "data": {
      "text/plain": [
       "False"
      ]
     },
     "execution_count": 33,
     "metadata": {},
     "output_type": "execute_result"
    }
   ],
   "source": [
    "(True and True) and (True == False)"
   ]
  },
  {
   "cell_type": "code",
   "execution_count": 34,
   "id": "f0bee89d",
   "metadata": {},
   "outputs": [
    {
     "data": {
      "text/plain": [
       "True"
      ]
     },
     "execution_count": 34,
     "metadata": {},
     "output_type": "execute_result"
    }
   ],
   "source": [
    "(not False) or (not True)"
   ]
  },
  {
   "cell_type": "markdown",
   "id": "947ab994",
   "metadata": {},
   "source": [
    "### Q5. What are the six comparison operators?"
   ]
  },
  {
   "cell_type": "markdown",
   "id": "bf0b2efe",
   "metadata": {},
   "source": [
    "__A5.__ The six comparison operators are:<br>\n",
    "<mark>==</mark>,<mark>!=</mark>,<mark>></mark>,<mark><</mark>,<mark>=></mark>,<mark><=</mark>"
   ]
  },
  {
   "cell_type": "markdown",
   "id": "2dcc5d21",
   "metadata": {},
   "source": [
    "### Q6. How do you tell the difference between the equal to and assignment operators? Describe a condition and when you would use one?"
   ]
  },
  {
   "cell_type": "markdown",
   "id": "e696b757",
   "metadata": {},
   "source": [
    "__A6.__ <mark>==</mark> is the equal to operator that compares two values and evaluates to a Boolean, while <mark>=</mark> is the assignment operator that stores a value in a variable."
   ]
  },
  {
   "cell_type": "code",
   "execution_count": 40,
   "id": "ee3d87c4",
   "metadata": {},
   "outputs": [
    {
     "name": "stdout",
     "output_type": "stream",
     "text": [
      "True\n"
     ]
    }
   ],
   "source": [
    "#  there is a difference between = and ==.\n",
    "a=10 # here we are assigning value of a is 10\n",
    "\n",
    "a==10 # here we are daying that a is equal to 10\n",
    "if a==10:\n",
    "    print(True)"
   ]
  },
  {
   "cell_type": "markdown",
   "id": "33a32fc2",
   "metadata": {},
   "source": [
    "### Q7. Identify the three blocks in this code:"
   ]
  },
  {
   "cell_type": "code",
   "execution_count": 44,
   "id": "e826eebf",
   "metadata": {},
   "outputs": [
    {
     "name": "stdout",
     "output_type": "stream",
     "text": [
      "ham\n",
      "spam\n",
      "spam\n"
     ]
    }
   ],
   "source": [
    "spam = 0\n",
    "if spam == 10:\n",
    "    print('eggs') # block 1\n",
    "if spam > 5: \n",
    "    print('bacon') # block 2\n",
    "else:\n",
    "    print('ham') # block 3\n",
    "print('spam')\n",
    "print('spam')"
   ]
  },
  {
   "cell_type": "markdown",
   "id": "d8ad07da",
   "metadata": {},
   "source": [
    "### Q8. Write code that prints Hello if 1 is stored in spam, prints Howdy if 2 is stored in spam, and prints Greetings! if anything else is stored in spam."
   ]
  },
  {
   "cell_type": "code",
   "execution_count": 73,
   "id": "d499ca96",
   "metadata": {},
   "outputs": [
    {
     "name": "stdout",
     "output_type": "stream",
     "text": [
      "Hello\n",
      "Howdy\n",
      "Greetings\n"
     ]
    }
   ],
   "source": [
    "def Spam(spam):\n",
    "    if spam==1:\n",
    "        print('Hello')\n",
    "    elif spam==2:\n",
    "        print('Howdy')\n",
    "    else:\n",
    "        print('Greetings')\n",
    "        \n",
    "Spam(1)\n",
    "Spam(2)\n",
    "Spam(3)"
   ]
  },
  {
   "cell_type": "markdown",
   "id": "4fc28dfe",
   "metadata": {},
   "source": [
    "### Q9.If your programme is stuck in an endless loop, what keys you’ll press?"
   ]
  },
  {
   "cell_type": "markdown",
   "id": "9d407865",
   "metadata": {},
   "source": [
    " __A9.__ You can stop an infinite loop with <mark>CTRL + C</mark>."
   ]
  },
  {
   "cell_type": "markdown",
   "id": "12020fc7",
   "metadata": {},
   "source": [
    "### Q10. How can you tell the difference between break and continue?"
   ]
  },
  {
   "cell_type": "markdown",
   "id": "a9aabeb9",
   "metadata": {},
   "source": [
    "__A10.__ The <mark>break</mark> and <mark>continue</mark> statements are the jump statements that are used to skip some statements inside the loop or terminate the loop immediately. The <mark>break</mark> statement terminates the whole iteration of a loop whereas <mark>continue</mark> skips the current iteration."
   ]
  },
  {
   "cell_type": "code",
   "execution_count": 75,
   "id": "5975b72b",
   "metadata": {},
   "outputs": [
    {
     "name": "stdout",
     "output_type": "stream",
     "text": [
      "----Using \"break\"-------\n",
      "1\n",
      "2\n",
      "----Using \"continue\"-------\n",
      "1\n",
      "2\n",
      "4\n",
      "5\n"
     ]
    }
   ],
   "source": [
    "nums = [1, 2, 3, 4, 5]\n",
    "\n",
    "print(\"----Using \\\"break\\\"-------\")\n",
    "for n in nums:\n",
    "    if n == 3:\n",
    "        break\n",
    "    print(n)\n",
    "\n",
    "print(\"----Using \\\"continue\\\"-------\")\n",
    "for n in nums:\n",
    "    if n == 3:\n",
    "        continue\n",
    "    print(n)\n",
    "    "
   ]
  },
  {
   "cell_type": "markdown",
   "id": "abcab2f7",
   "metadata": {},
   "source": [
    "### Q11. In a for loop, what is the difference between range(10), range(0, 10), and range(0, 10, 1)?"
   ]
  },
  {
   "cell_type": "markdown",
   "id": "518009bc",
   "metadata": {},
   "source": [
    "__A11.__ The difference are:\n",
    "- The __range(10)__ call range from 0 to 9 (but not include 10)\n",
    "- The __range (0,10)__ explicitly tells the loop to start at 0\n",
    "- The __range(0,10,1)__ explicitly tells the loop to increase the variable by 1 on each iteration"
   ]
  },
  {
   "cell_type": "code",
   "execution_count": 116,
   "id": "41b29639",
   "metadata": {},
   "outputs": [
    {
     "name": "stdout",
     "output_type": "stream",
     "text": [
      "0\n",
      "1\n",
      "2\n",
      "3\n",
      "4\n",
      "5\n",
      "6\n",
      "7\n",
      "8\n",
      "9\n",
      "--------------------\n",
      "1\n",
      "2\n",
      "3\n",
      "4\n",
      "5\n",
      "6\n",
      "7\n",
      "8\n",
      "9\n",
      "10\n",
      "--------------------\n",
      "0\n",
      "1\n",
      "2\n",
      "3\n",
      "4\n",
      "5\n",
      "6\n",
      "7\n",
      "8\n",
      "9\n",
      "--------------------\n"
     ]
    }
   ],
   "source": [
    "# performing range(10)\n",
    "for i in range(10):\n",
    "    print(i)\n",
    "print(\"--------------------\")\n",
    "\n",
    "# performing range(0, 10)\n",
    "for i in range(0, 10):\n",
    "    i= i+1\n",
    "    print(i)\n",
    "print(\"--------------------\")\n",
    "\n",
    "# performing range(0,10,1)\n",
    "for i in range(0, 10, 1):\n",
    "    print(i)\n",
    "print(\"--------------------\")"
   ]
  },
  {
   "cell_type": "markdown",
   "id": "43702db7",
   "metadata": {},
   "source": [
    "### Q12. Write a short program that prints the numbers 1 to 10 using a for loop. Then write an equivalent program that prints the numbers 1 to 10 using a while loop ?"
   ]
  },
  {
   "cell_type": "code",
   "execution_count": 98,
   "id": "5d87ff07",
   "metadata": {},
   "outputs": [
    {
     "name": "stdout",
     "output_type": "stream",
     "text": [
      "----Using \"for loop\"-------\n",
      "1\n",
      "2\n",
      "3\n",
      "4\n",
      "5\n",
      "6\n",
      "7\n",
      "8\n",
      "9\n",
      "10\n",
      "----Using \"while loop\"-------\n",
      "1\n",
      "2\n",
      "3\n",
      "4\n",
      "5\n",
      "6\n",
      "7\n",
      "8\n",
      "9\n",
      "10\n"
     ]
    }
   ],
   "source": [
    "print(\"----Using \\\"for loop\\\"-------\")\n",
    "\n",
    "for i in range(1,11):\n",
    "    print(i)\n",
    "    \n",
    "print(\"----Using \\\"while loop\\\"-------\")\n",
    "\n",
    "i=1\n",
    "while i <= 10:\n",
    "    print(i)\n",
    "    i=i+1"
   ]
  },
  {
   "cell_type": "markdown",
   "id": "71e0c2ae",
   "metadata": {},
   "source": [
    "### Q13. If you had a function named bacon() inside a module named spam, how would you call it after importing spam ?"
   ]
  },
  {
   "cell_type": "markdown",
   "id": "284cc944",
   "metadata": {},
   "source": [
    "__A13.__ This function can be called with <mark>spam.bacon()</mark>"
   ]
  }
 ],
 "metadata": {
  "kernelspec": {
   "display_name": "Python 3 (ipykernel)",
   "language": "python",
   "name": "python3"
  },
  "language_info": {
   "codemirror_mode": {
    "name": "ipython",
    "version": 3
   },
   "file_extension": ".py",
   "mimetype": "text/x-python",
   "name": "python",
   "nbconvert_exporter": "python",
   "pygments_lexer": "ipython3",
   "version": "3.8.8"
  }
 },
 "nbformat": 4,
 "nbformat_minor": 5
}
