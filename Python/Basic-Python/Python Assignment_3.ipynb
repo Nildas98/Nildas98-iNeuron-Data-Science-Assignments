{
 "cells": [
  {
   "cell_type": "markdown",
   "id": "5b8e6b0f",
   "metadata": {},
   "source": [
    "# Python Assignment_3 Solution"
   ]
  },
  {
   "cell_type": "markdown",
   "id": "f746da30",
   "metadata": {},
   "source": [
    "SUBMITTED BY: NILUTPAL DAS"
   ]
  },
  {
   "cell_type": "markdown",
   "id": "4db10317",
   "metadata": {},
   "source": [
    "### Q1. Why are functions advantageous to have in your programs?"
   ]
  },
  {
   "cell_type": "markdown",
   "id": "8477c52f",
   "metadata": {},
   "source": [
    "__A1.__ Functions reduce the need for duplicate code. This makes programs shorter, easier to read, and easier to update. It increases reusability, readability, reduces complexity, reduces chances of getting an error."
   ]
  },
  {
   "cell_type": "markdown",
   "id": "a36a579a",
   "metadata": {},
   "source": [
    "### Q2. When does the code in a function run: when it's specified or when it's called?"
   ]
  },
  {
   "cell_type": "markdown",
   "id": "ff78c388",
   "metadata": {},
   "source": [
    "__A2.__ the code in a function runs when it is called, not when it is defined or specified."
   ]
  },
  {
   "cell_type": "code",
   "execution_count": 15,
   "id": "4bee5421",
   "metadata": {},
   "outputs": [
    {
     "name": "stdout",
     "output_type": "stream",
     "text": [
      "my name is  Nilutpal Das\n"
     ]
    }
   ],
   "source": [
    "def name(my_name): #function is defined\n",
    "    print(\"my name is \", my_name)\n",
    "\n",
    "name(\"Nilutpal Das\") # function is called"
   ]
  },
  {
   "cell_type": "markdown",
   "id": "2f9b61c4",
   "metadata": {},
   "source": [
    "### Q3. What statement creates a function?"
   ]
  },
  {
   "cell_type": "markdown",
   "id": "6296d0e6",
   "metadata": {},
   "source": [
    "__A3.__ the <mark>def</mark> statement creates a function.\n"
   ]
  },
  {
   "cell_type": "markdown",
   "id": "9c0810e8",
   "metadata": {},
   "source": [
    "### Q4. What is the difference between a function and a function call?"
   ]
  },
  {
   "cell_type": "markdown",
   "id": "f2382e95",
   "metadata": {},
   "source": [
    "__A4.__ A function is a block of code starting with def statement.<br> \n",
    "A function call is the code used pass control to a function for execution."
   ]
  },
  {
   "cell_type": "code",
   "execution_count": 18,
   "id": "59d3d7a2",
   "metadata": {},
   "outputs": [
    {
     "name": "stdout",
     "output_type": "stream",
     "text": [
      "my name is  Nilutpal Das\n"
     ]
    }
   ],
   "source": [
    "def name(my_name): #function\n",
    "    print(\"my name is \", my_name)\n",
    "\n",
    "name(\"Nilutpal Das\") # function call"
   ]
  },
  {
   "cell_type": "markdown",
   "id": "d3de8056",
   "metadata": {},
   "source": [
    "### Q5. How many global scopes are there in a Python program? How many local scopes?"
   ]
  },
  {
   "cell_type": "markdown",
   "id": "8d79cf78",
   "metadata": {},
   "source": [
    "__A5.__ There is one global scope and local scope are created when it is needed. i.e. when function is called."
   ]
  },
  {
   "cell_type": "code",
   "execution_count": 26,
   "id": "a72d3b75",
   "metadata": {},
   "outputs": [],
   "source": [
    "# global scope\n",
    "# x=2 #global variable\n",
    "# def num():\n",
    "#     print(x)\n",
    "\n",
    "# num()\n",
    "# print(x)\n",
    "\n",
    "# print(\"---------------------\")\n",
    "\n",
    "# # local scope\n",
    "# def num2():\n",
    "#     x=3\n",
    "    \n",
    "#     def num3():\n",
    "#         print(x)\n",
    "#     num3()\n",
    "# num2"
   ]
  },
  {
   "cell_type": "markdown",
   "id": "122cfc1a",
   "metadata": {},
   "source": [
    "### Q6. What happens to variables in a local scope when the function call returns?"
   ]
  },
  {
   "cell_type": "markdown",
   "id": "088b3119",
   "metadata": {},
   "source": [
    "__A6.__ When a function returns, the local scope is destroyed, and all the variables in it are forgotten."
   ]
  },
  {
   "cell_type": "code",
   "execution_count": 33,
   "id": "d644a9b0",
   "metadata": {},
   "outputs": [
    {
     "name": "stdout",
     "output_type": "stream",
     "text": [
      "3\n"
     ]
    }
   ],
   "source": [
    "# local scope\n",
    "def num2():\n",
    "    x=3\n",
    "    \n",
    "    def num3():\n",
    "        print(x)\n",
    "    num3()\n",
    "num2()"
   ]
  },
  {
   "cell_type": "markdown",
   "id": "7918851b",
   "metadata": {},
   "source": [
    "### Q7. What is the concept of a return value? Is it possible to have a return value in an expression?"
   ]
  },
  {
   "cell_type": "markdown",
   "id": "bf582547",
   "metadata": {},
   "source": [
    "__A7.__ A return value is the value that a function call evaluation takes place. yes, a return value can be used in an expression."
   ]
  },
  {
   "cell_type": "markdown",
   "id": "e931ad3d",
   "metadata": {},
   "source": [
    "### Q8. If a function does not have a return statement, what is the return value of a call to that function?"
   ]
  },
  {
   "cell_type": "markdown",
   "id": "349bdc39",
   "metadata": {},
   "source": [
    "__A8.__ If there is no return statement for a function, its return value is None."
   ]
  },
  {
   "cell_type": "markdown",
   "id": "7b666119",
   "metadata": {},
   "source": [
    "### Q9. How do you make a function variable refer to the global variable?"
   ]
  },
  {
   "cell_type": "markdown",
   "id": "c332441e",
   "metadata": {},
   "source": [
    "__A9.__ A global statement will force a variable in a function to refer to the global variable."
   ]
  },
  {
   "cell_type": "markdown",
   "id": "04fcd535",
   "metadata": {},
   "source": [
    "### Q10. What is the data type of None?"
   ]
  },
  {
   "cell_type": "markdown",
   "id": "5024640a",
   "metadata": {},
   "source": [
    "__A10.__ The data type of None is <mark>NoneType</mark>."
   ]
  },
  {
   "cell_type": "markdown",
   "id": "fb454168",
   "metadata": {},
   "source": [
    "### Q11. What does the sentence import areallyourpetsnamederic do?"
   ]
  },
  {
   "cell_type": "markdown",
   "id": "b6dc8699",
   "metadata": {},
   "source": [
    "__A11.__ The import statement imports a module named areallyourpetsnamederic."
   ]
  },
  {
   "cell_type": "markdown",
   "id": "115a6348",
   "metadata": {},
   "source": [
    "### Q12. If you had a bacon() feature in a spam module, what would you call it after importing spam?"
   ]
  },
  {
   "cell_type": "markdown",
   "id": "41e172aa",
   "metadata": {},
   "source": [
    "__A12.__ Function can be called with spam.bacon()."
   ]
  },
  {
   "cell_type": "markdown",
   "id": "3a802a1e",
   "metadata": {},
   "source": [
    "### Q13. What can you do to save a programme from crashing if it encounters an error?"
   ]
  },
  {
   "cell_type": "markdown",
   "id": "7575ff66",
   "metadata": {},
   "source": [
    "__A13.__ We can use <mark>try</mark> and <mark>except</mark> clause for this above mentioned situation."
   ]
  },
  {
   "cell_type": "markdown",
   "id": "e3b3aa80",
   "metadata": {},
   "source": [
    "### Q14. What is the purpose of the try clause? What is the purpose of the except clause?"
   ]
  },
  {
   "cell_type": "markdown",
   "id": "0a5299e6",
   "metadata": {},
   "source": [
    "__A14.__ The code that could potentially cause an error goes in the <mark>try</mark> clause. The code that executes if an error happens goes in the <mark>except</mark> clause."
   ]
  },
  {
   "cell_type": "code",
   "execution_count": 35,
   "id": "47d7e40e",
   "metadata": {},
   "outputs": [
    {
     "name": "stdout",
     "output_type": "stream",
     "text": [
      "2\n"
     ]
    }
   ],
   "source": [
    "try:\n",
    "  print(x)\n",
    "except:\n",
    "  print(\"An exception occurred\")"
   ]
  }
 ],
 "metadata": {
  "kernelspec": {
   "display_name": "Python 3 (ipykernel)",
   "language": "python",
   "name": "python3"
  },
  "language_info": {
   "codemirror_mode": {
    "name": "ipython",
    "version": 3
   },
   "file_extension": ".py",
   "mimetype": "text/x-python",
   "name": "python",
   "nbconvert_exporter": "python",
   "pygments_lexer": "ipython3",
   "version": "3.8.8"
  }
 },
 "nbformat": 4,
 "nbformat_minor": 5
}
