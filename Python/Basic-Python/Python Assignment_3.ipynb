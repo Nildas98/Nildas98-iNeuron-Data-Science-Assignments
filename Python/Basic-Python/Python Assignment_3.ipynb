{
 "cells": [
  {
   "cell_type": "markdown",
   "id": "3f737479",
   "metadata": {},
   "source": [
    "# Python Assignment_3 Solution"
   ]
  },
  {
   "cell_type": "markdown",
   "id": "3ad33f6d",
   "metadata": {},
   "source": [
    "SUBMITTED BY: NILUTPAL DAS"
   ]
  },
  {
   "cell_type": "markdown",
   "id": "08d04ee2",
   "metadata": {},
   "source": [
    "### Q1. Why are functions advantageous to have in your programs?"
   ]
  },
  {
   "cell_type": "markdown",
   "id": "ef42fea7",
   "metadata": {},
   "source": [
    "__A1.__ Functions reduce the need for duplicate code. This makes programs shorter, easier to read, and easier to update. It increases reusability, readability, reduces complexity, reduces chances of getting an error."
   ]
  },
  {
   "cell_type": "markdown",
   "id": "adf92bd5",
   "metadata": {},
   "source": [
    "### Q2. When does the code in a function run: when it's specified or when it's called?"
   ]
  },
  {
   "cell_type": "markdown",
   "id": "b03c0457",
   "metadata": {},
   "source": [
    "__A2.__ the code in a function runs when it is called, not when it is defined or specified."
   ]
  },
  {
   "cell_type": "code",
   "execution_count": 15,
   "id": "55f1782d",
   "metadata": {},
   "outputs": [
    {
     "name": "stdout",
     "output_type": "stream",
     "text": [
      "my name is  Nilutpal Das\n"
     ]
    }
   ],
   "source": [
    "def name(my_name): #function is defined\n",
    "    print(\"my name is \", my_name)\n",
    "\n",
    "name(\"Nilutpal Das\") # function is called"
   ]
  },
  {
   "cell_type": "markdown",
   "id": "06d44684",
   "metadata": {},
   "source": [
    "### Q3. What statement creates a function?"
   ]
  },
  {
   "cell_type": "markdown",
   "id": "1570dfd3",
   "metadata": {},
   "source": [
    "__A3.__ the <mark>def</mark> statement creates a function.\n"
   ]
  },
  {
   "cell_type": "markdown",
   "id": "2befc627",
   "metadata": {},
   "source": [
    "### Q4. What is the difference between a function and a function call?"
   ]
  },
  {
   "cell_type": "markdown",
   "id": "72cf5643",
   "metadata": {},
   "source": [
    "__A4.__ A function is a block of code starting with def statement.<br> \n",
    "A function call is the code used pass control to a function for execution."
   ]
  },
  {
   "cell_type": "code",
   "execution_count": 18,
   "id": "1e8ac770",
   "metadata": {},
   "outputs": [
    {
     "name": "stdout",
     "output_type": "stream",
     "text": [
      "my name is  Nilutpal Das\n"
     ]
    }
   ],
   "source": [
    "def name(my_name): #function\n",
    "    print(\"my name is \", my_name)\n",
    "\n",
    "name(\"Nilutpal Das\") # function call"
   ]
  },
  {
   "cell_type": "markdown",
   "id": "30bbd281",
   "metadata": {},
   "source": [
    "### Q5. How many global scopes are there in a Python program? How many local scopes?"
   ]
  },
  {
   "cell_type": "markdown",
   "id": "41b2994d",
   "metadata": {},
   "source": [
    "__A5.__ There is one global scope and local scope are created when it is needed. i.e. when function is called."
   ]
  },
  {
   "cell_type": "markdown",
   "id": "9c5d1495",
   "metadata": {},
   "source": [
    "### Q6. What happens to variables in a local scope when the function call returns?"
   ]
  },
  {
   "cell_type": "markdown",
   "id": "19ac2ef3",
   "metadata": {},
   "source": [
    "__A6.__ When a function returns, the local scope is destroyed, and all the variables in it are forgotten."
   ]
  },
  {
   "cell_type": "code",
   "execution_count": 33,
   "id": "8be6dc5b",
   "metadata": {},
   "outputs": [
    {
     "name": "stdout",
     "output_type": "stream",
     "text": [
      "3\n"
     ]
    }
   ],
   "source": [
    "# local scope\n",
    "def num2():\n",
    "    x=3\n",
    "    \n",
    "    def num3():\n",
    "        print(x)\n",
    "    num3()\n",
    "num2()"
   ]
  },
  {
   "cell_type": "markdown",
   "id": "34c0cd82",
   "metadata": {},
   "source": [
    "### Q7. What is the concept of a return value? Is it possible to have a return value in an expression?"
   ]
  },
  {
   "cell_type": "markdown",
   "id": "81d16141",
   "metadata": {},
   "source": [
    "__A7.__ A return value is the value that a function call evaluation takes place. yes, a return value can be used in an expression."
   ]
  },
  {
   "cell_type": "markdown",
   "id": "33904c5a",
   "metadata": {},
   "source": [
    "### Q8. If a function does not have a return statement, what is the return value of a call to that function?"
   ]
  },
  {
   "cell_type": "markdown",
   "id": "7b810ef9",
   "metadata": {},
   "source": [
    "__A8.__ If there is no return statement for a function, its return value is None."
   ]
  },
  {
   "cell_type": "markdown",
   "id": "ea305bcf",
   "metadata": {},
   "source": [
    "### Q9. How do you make a function variable refer to the global variable?"
   ]
  },
  {
   "cell_type": "markdown",
   "id": "95b33a50",
   "metadata": {},
   "source": [
    "__A9.__ A global statement will force a variable in a function to refer to the global variable."
   ]
  },
  {
   "cell_type": "markdown",
   "id": "3602fef2",
   "metadata": {},
   "source": [
    "### Q10. What is the data type of None?"
   ]
  },
  {
   "cell_type": "markdown",
   "id": "0ac60522",
   "metadata": {},
   "source": [
    "__A10.__ The data type of None is <mark>NoneType</mark>."
   ]
  },
  {
   "cell_type": "markdown",
   "id": "c2e35445",
   "metadata": {},
   "source": [
    "### Q11. What does the sentence import areallyourpetsnamederic do?"
   ]
  },
  {
   "cell_type": "markdown",
   "id": "0324cc83",
   "metadata": {},
   "source": [
    "__A11.__ The import statement imports a module named areallyourpetsnamederic."
   ]
  },
  {
   "cell_type": "markdown",
   "id": "07bb71b9",
   "metadata": {},
   "source": [
    "### Q12. If you had a bacon() feature in a spam module, what would you call it after importing spam?"
   ]
  },
  {
   "cell_type": "markdown",
   "id": "3a038c3c",
   "metadata": {},
   "source": [
    "__A12.__ Function can be called with spam.bacon()."
   ]
  },
  {
   "cell_type": "markdown",
   "id": "add41159",
   "metadata": {},
   "source": [
    "### Q13. What can you do to save a programme from crashing if it encounters an error?"
   ]
  },
  {
   "cell_type": "markdown",
   "id": "fb52dbe8",
   "metadata": {},
   "source": [
    "__A13.__ We can use <mark>try</mark> and <mark>except</mark> clause for this above mentioned situation."
   ]
  },
  {
   "cell_type": "markdown",
   "id": "24c5f0f9",
   "metadata": {},
   "source": [
    "### Q14. What is the purpose of the try clause? What is the purpose of the except clause?"
   ]
  },
  {
   "cell_type": "markdown",
   "id": "d115d6e9",
   "metadata": {},
   "source": [
    "__A14.__ The code that could potentially cause an error goes in the <mark>try</mark> clause. The code that executes if an error happens goes in the <mark>except</mark> clause."
   ]
  },
  {
   "cell_type": "code",
   "execution_count": 35,
   "id": "9d964683",
   "metadata": {},
   "outputs": [
    {
     "name": "stdout",
     "output_type": "stream",
     "text": [
      "2\n"
     ]
    }
   ],
   "source": [
    "try:\n",
    "  print(x)\n",
    "except:\n",
    "  print(\"An exception occurred\")"
   ]
  }
 ],
 "metadata": {
  "kernelspec": {
   "display_name": "Python 3 (ipykernel)",
   "language": "python",
   "name": "python3"
  },
  "language_info": {
   "codemirror_mode": {
    "name": "ipython",
    "version": 3
   },
   "file_extension": ".py",
   "mimetype": "text/x-python",
   "name": "python",
   "nbconvert_exporter": "python",
   "pygments_lexer": "ipython3",
   "version": "3.8.8"
  }
 },
 "nbformat": 4,
 "nbformat_minor": 5
}
