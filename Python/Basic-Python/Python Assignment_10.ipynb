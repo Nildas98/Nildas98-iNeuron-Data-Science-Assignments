{
 "cells": [
  {
   "cell_type": "markdown",
   "id": "4bf3a4ff",
   "metadata": {},
   "source": [
    "# Python Assignment_10 Solution"
   ]
  },
  {
   "cell_type": "markdown",
   "id": "cc93003e",
   "metadata": {},
   "source": [
    "SUBMITTED BY: NILUTPAL DAS"
   ]
  },
  {
   "cell_type": "markdown",
   "id": "9b7b6c8a",
   "metadata": {},
   "source": [
    "### Q1. How do you distinguish between shutil.copy() and shutil.copytree()?"
   ]
  },
  {
   "cell_type": "markdown",
   "id": "5de21ea2",
   "metadata": {},
   "source": [
    "__A1.__ The shutil.copy() function will copy a single file, while shutil.copytree() will copy an entire folder, along with all its contents."
   ]
  },
  {
   "cell_type": "markdown",
   "id": "fc26ac1d",
   "metadata": {},
   "source": [
    "### Q2. What function is used to rename files??"
   ]
  },
  {
   "cell_type": "markdown",
   "id": "23cf716e",
   "metadata": {},
   "source": [
    "__A2.__ os.rename() function is used to rename files or directories using a python program. this function takes two arguments src and dest. src represents the name file/directory which we want to rename, whereas dest represents the new name of the file/directory."
   ]
  },
  {
   "cell_type": "markdown",
   "id": "46642462",
   "metadata": {},
   "source": [
    "### Q3. What is the difference between the delete functions in the send2trash and shutil modules?"
   ]
  },
  {
   "cell_type": "markdown",
   "id": "279a6134",
   "metadata": {},
   "source": [
    "__A3.__ The send2trash functions will move a file or folder to the recycle bin, while shutil functions will permanently delete files and folders."
   ]
  },
  {
   "cell_type": "markdown",
   "id": "40578db5",
   "metadata": {},
   "source": [
    "### Q4. ZipFile objects have a close() method just like File objects’ close() method. What ZipFile method is equivalent to File objects’ open() method?"
   ]
  },
  {
   "cell_type": "markdown",
   "id": "438c9cb8",
   "metadata": {},
   "source": [
    "__A4.__ ZipFile Module provides a method called as zipfile.ZipFile() to read and write to zipFiles. it takes arugments such as filename and mode etc zipfile.ZipFile('filename', mode = 'r')"
   ]
  },
  {
   "cell_type": "markdown",
   "id": "7598087a",
   "metadata": {},
   "source": [
    "### Q5. Create a programme that searches a folder tree for files with a certain file extension (such as .pdf or .jpg). Copy these files from whatever location they are in to a new folder"
   ]
  },
  {
   "cell_type": "code",
   "execution_count": 1,
   "id": "a1b8b919",
   "metadata": {},
   "outputs": [],
   "source": [
    "import os\n",
    "import shutil\n",
    "\n",
    "def search_copy(source,destination,extensions):\n",
    "    source = os.path.abspath(source)\n",
    "    destination = os.path.abspath(destination)\n",
    "    for foldername, subfolder, filenames in os.walk(source):\n",
    "        print(f'Folder Name ➞ {foldername}',end='\\n\\n')\n",
    "        print(f'Sub Folders ➞ {subfolder}',end='\\n\\n')\n",
    "        print(f'Files ➞ {filenames}',end='\\n\\n')\n",
    "        for filename in filenames:\n",
    "            fileName,extension = os.path.splitext(filename)\n",
    "            if extension in extensions:\n",
    "                targetFile = foldername+os.path.sep+fileName+extension\n",
    "                shutil.copy(targetFile, destination)\n",
    "        print(f'Files copied successfully from {source} to {destination}')\n",
    "    \n",
    "extensions = ['.pdf','.jpg','.ipynb']\n",
    "source = 'Source Folder'\n",
    "destination = 'Destination Folder'\n",
    "search_copy(source, destination, extensions)"
   ]
  }
 ],
 "metadata": {
  "kernelspec": {
   "display_name": "Python 3 (ipykernel)",
   "language": "python",
   "name": "python3"
  },
  "language_info": {
   "codemirror_mode": {
    "name": "ipython",
    "version": 3
   },
   "file_extension": ".py",
   "mimetype": "text/x-python",
   "name": "python",
   "nbconvert_exporter": "python",
   "pygments_lexer": "ipython3",
   "version": "3.8.8"
  }
 },
 "nbformat": 4,
 "nbformat_minor": 5
}
