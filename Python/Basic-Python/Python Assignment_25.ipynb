{
 "cells": [
  {
   "cell_type": "markdown",
   "id": "9c264c24",
   "metadata": {},
   "source": [
    "# Python Assignment_25 Solution"
   ]
  },
  {
   "cell_type": "markdown",
   "id": "e9285e0b",
   "metadata": {},
   "source": [
    "SUBMITTED BY: NILUTPAL DAS"
   ]
  },
  {
   "cell_type": "markdown",
   "id": "d4bcf7f1",
   "metadata": {},
   "source": [
    "### Q1. What is the difference between enclosing a list comprehension in square brackets and parentheses?"
   ]
  },
  {
   "cell_type": "markdown",
   "id": "cc1651e5",
   "metadata": {},
   "source": [
    "__A1.__ Enclosing a list comprehension in square brackets returns a list but enclosing a list comprehension in parentheses returns a generator object. Example is mentioned below:"
   ]
  },
  {
   "cell_type": "code",
   "execution_count": 3,
   "id": "0bb93f1c",
   "metadata": {},
   "outputs": [
    {
     "name": "stdout",
     "output_type": "stream",
     "text": [
      "[0, 1, 2, 3, 4, 5, 6, 7, 8, 9] <class 'list'>\n"
     ]
    }
   ],
   "source": [
    "l = [ele for ele in range(10)]\n",
    "print(l, type(l))"
   ]
  },
  {
   "cell_type": "code",
   "execution_count": 4,
   "id": "d7d7aac6",
   "metadata": {},
   "outputs": [
    {
     "name": "stdout",
     "output_type": "stream",
     "text": [
      "<generator object <genexpr> at 0x000001B8764F5660> <class 'generator'>\n"
     ]
    }
   ],
   "source": [
    "g = (ele for ele in range(10))\n",
    "print(g, type(g))"
   ]
  },
  {
   "cell_type": "markdown",
   "id": "26355cea",
   "metadata": {},
   "source": [
    "### Q2. What is the relationship between generators and iterators?"
   ]
  },
  {
   "cell_type": "markdown",
   "id": "6be9e87e",
   "metadata": {},
   "source": [
    "__A2.__ An __iterator__ is an object which contains a countable number of values and it is used to iterate over iterable objects like list, tuples, sets, etc. Iterators are implemented using a class. It follows lazy evaluation where the evaluation of the expression will be on hold and stored in the memory until the item is called specifically which helps us to avoid repeated evaluation. \n",
    "\n",
    "Similarly __Generators__ are an another way of creating iterators in a simple way where it uses the keyword yield statement instead of return statement in a defined function.Generators are implemented using a function. Just as iterators, generators also follow lazy evaluation. Here, the yield function returns the data without affecting or exiting the function. It will return a sequence of data in an iterable format where we need to iterate over the sequence to use the data as they won’t store the entire sequence in the memory."
   ]
  },
  {
   "cell_type": "code",
   "execution_count": 5,
   "id": "3039d279",
   "metadata": {},
   "outputs": [
    {
     "name": "stdout",
     "output_type": "stream",
     "text": [
      "<class 'list_iterator'>\n",
      "iNeuron\n",
      "Full\n",
      "Stack\n",
      "Data Science\n",
      "Bootcamp\n",
      "<list_iterator object at 0x000001B87647A9D0>\n",
      "0\n",
      "1\n",
      "8\n",
      "27\n",
      "64\n"
     ]
    }
   ],
   "source": [
    "# Example of iterator\n",
    "iter_str = iter(['iNeuron','Full','Stack','Data Science','Bootcamp'])\n",
    "print(type(iter_str))\n",
    "print(next(iter_str))\n",
    "print(next(iter_str))\n",
    "print(next(iter_str))\n",
    "print(next(iter_str))\n",
    "print(next(iter_str))\n",
    "\n",
    "print(iter_str) # After the iterable object is completed, to use them again we have reassign them to the same object.\n",
    "\n",
    "# Example of Generator\n",
    "def cube_numbers(in_num):\n",
    "    for ele in range(in_num+1):\n",
    "        yield ele**3\n",
    "\n",
    "out_num = cube_numbers(4)\n",
    "print(next(out_num))\n",
    "print(next(out_num))\n",
    "print(next(out_num))\n",
    "print(next(out_num))\n",
    "print(next(out_num))"
   ]
  },
  {
   "cell_type": "markdown",
   "id": "6ff2e4d7",
   "metadata": {},
   "source": [
    "### Q3. What are the signs that a function is a generator function?"
   ]
  },
  {
   "cell_type": "markdown",
   "id": "8aae3337",
   "metadata": {},
   "source": [
    "__A3.__ A __generator function__ uses a yield statement instead of a return statement. A generator function will always return a iterable object called generator. where as a normal function can return a string/list/tuple/dict/NoneType etc."
   ]
  },
  {
   "cell_type": "code",
   "execution_count": 7,
   "id": "49383399",
   "metadata": {},
   "outputs": [
    {
     "name": "stdout",
     "output_type": "stream",
     "text": [
      "1\n",
      "2\n",
      "3\n"
     ]
    }
   ],
   "source": [
    "# A generator function that yields 1 for first time,\n",
    "# 2 second time and 3 third time\n",
    "def simpleGeneratorFun():\n",
    "    yield 1           \n",
    "    yield 2           \n",
    "    yield 3           \n",
    "  \n",
    "## Driver code to check above generator function\n",
    "for value in simpleGeneratorFun():\n",
    "    print(value)"
   ]
  },
  {
   "cell_type": "markdown",
   "id": "03280701",
   "metadata": {},
   "source": [
    "### Q4. What is the purpose of a yield statement?"
   ]
  },
  {
   "cell_type": "markdown",
   "id": "6f0382ff",
   "metadata": {},
   "source": [
    "__A4.__ The __yield statement__ suspends function’s execution and sends a value back to the caller, but retains enough state to enable function to resume where it is left off. When resumed, the function continues execution immediately after the last yield run. This allows its code to produce a series of values over time, rather than computing them at once and sending them back like a list."
   ]
  },
  {
   "cell_type": "code",
   "execution_count": 8,
   "id": "98208a5c",
   "metadata": {},
   "outputs": [
    {
     "name": "stdout",
     "output_type": "stream",
     "text": [
      "1\n",
      "2\n",
      "3\n"
     ]
    }
   ],
   "source": [
    "# A generator function that yields 1 for first time,\n",
    "# 2 second time and 3 third time\n",
    "def simpleGeneratorFun():\n",
    "    yield 1           \n",
    "    yield 2           \n",
    "    yield 3           \n",
    "  \n",
    "# Driver code to check above generator function\n",
    "for value in simpleGeneratorFun():\n",
    "    print(value)"
   ]
  },
  {
   "cell_type": "markdown",
   "id": "6c0078f1",
   "metadata": {},
   "source": [
    "### Q5. What is the relationship between map calls and list comprehensions? Make a comparison and contrast between the two ?"
   ]
  },
  {
   "cell_type": "markdown",
   "id": "5b2287e6",
   "metadata": {},
   "source": [
    "__A5.__ The main differences between map calls and list comprehensiosn are:\n",
    "\n",
    "1. List comprehension is more concise and easier to read as compared to map.\n",
    "2. List comprehension allows filtering. In map, we have no such facility. For example, to print all odd numbers in range of 50, we can write [n for n in range(50) if n%2 != 0]. There is no alternate for it in map\n",
    "3. List comprehension are used when a list of results is required as final output.but map only returns a map object. it needs to be explicitly coverted to desired datatype.\n",
    "4. List comprehension is faster than map when we need to evaluate expressions that are too long or complicated to express\n",
    "5. Map is faster in case of calling an already defined function on a set of values."
   ]
  }
 ],
 "metadata": {
  "kernelspec": {
   "display_name": "Python 3 (ipykernel)",
   "language": "python",
   "name": "python3"
  },
  "language_info": {
   "codemirror_mode": {
    "name": "ipython",
    "version": 3
   },
   "file_extension": ".py",
   "mimetype": "text/x-python",
   "name": "python",
   "nbconvert_exporter": "python",
   "pygments_lexer": "ipython3",
   "version": "3.8.8"
  }
 },
 "nbformat": 4,
 "nbformat_minor": 5
}
