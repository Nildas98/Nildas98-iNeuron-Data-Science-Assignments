{
 "cells": [
  {
   "cell_type": "markdown",
   "id": "03d1b89f",
   "metadata": {},
   "source": [
    "# Python Assignment_5 Solution"
   ]
  },
  {
   "cell_type": "markdown",
   "id": "0819bf3d",
   "metadata": {},
   "source": [
    "SUBMITTED BY: NILUTPAL DAS"
   ]
  },
  {
   "cell_type": "markdown",
   "id": "ea7aaa4e",
   "metadata": {},
   "source": [
    "### Q1. What does an empty dictionary's code look like?"
   ]
  },
  {
   "cell_type": "markdown",
   "id": "d4a51bb8",
   "metadata": {},
   "source": [
    "__A1.__ Empty dictionary code looks like two curly brackets <mark>{}</mark>"
   ]
  },
  {
   "cell_type": "markdown",
   "id": "4f83c931",
   "metadata": {},
   "source": [
    "### Q2. What is the value of a dictionary value with the key 'foo' and the value 42?"
   ]
  },
  {
   "cell_type": "markdown",
   "id": "b9f63d20",
   "metadata": {},
   "source": [
    "__A2.__ value of a dictionary value with the key 'foo' and the value 42 {'foo': 42}"
   ]
  },
  {
   "cell_type": "code",
   "execution_count": 12,
   "id": "6a5171d6",
   "metadata": {},
   "outputs": [
    {
     "data": {
      "text/plain": [
       "{'foo': 42}"
      ]
     },
     "execution_count": 12,
     "metadata": {},
     "output_type": "execute_result"
    }
   ],
   "source": [
    "{'foo': 42}"
   ]
  },
  {
   "cell_type": "markdown",
   "id": "3f698e7a",
   "metadata": {},
   "source": [
    "### Q3. What is the most significant distinction between a dictionary and a list?"
   ]
  },
  {
   "cell_type": "markdown",
   "id": "5af50559",
   "metadata": {},
   "source": [
    "__A3.__ List elements are ordered , while elements in dictionary are in unordered.<br>\n",
    "List are represented by [], while dictionary are represented by {}.<br>\n",
    "A single list may contain DataTypes like Integers, Strings, as well as Objects. Lists are mutable, and hence, they can be altered even after their creation.<br>\n",
    "Dictionary holds key:value pair. Key-value is provided in the dictionary to make it more optimized. Each key-value pair in a Dictionary is separated by a colon :, whereas each key is separated by a ‘comma’.<br>"
   ]
  },
  {
   "cell_type": "code",
   "execution_count": 15,
   "id": "632bb933",
   "metadata": {},
   "outputs": [
    {
     "name": "stdout",
     "output_type": "stream",
     "text": [
      "dictionary\n",
      "{1: 'Nilu', 2: 'Nilutpal', 3: 'Nildas'}\n",
      "list\n",
      "['Nilu', 'Nilutpal', 'Nildas']\n"
     ]
    }
   ],
   "source": [
    "# example\n",
    "print('dictionary')\n",
    "dict = {1: 'Nilu', 2: 'Nilutpal', 3: 'Nildas'}\n",
    "print(dict)\n",
    "\n",
    "print('list')\n",
    "list = ['Nilu', 'Nilutpal', 'Nildas']\n",
    "print(list)"
   ]
  },
  {
   "cell_type": "markdown",
   "id": "14184f2b",
   "metadata": {},
   "source": [
    "### Q4.What happens if you try to access spam ['foo'] if spam is {'bar':100} ?"
   ]
  },
  {
   "cell_type": "code",
   "execution_count": 16,
   "id": "e4b442c9",
   "metadata": {},
   "outputs": [
    {
     "ename": "KeyError",
     "evalue": "'foo'",
     "output_type": "error",
     "traceback": [
      "\u001b[1;31m---------------------------------------------------------------------------\u001b[0m",
      "\u001b[1;31mKeyError\u001b[0m                                  Traceback (most recent call last)",
      "\u001b[1;32m~\\AppData\\Local\\Temp/ipykernel_10068/414641506.py\u001b[0m in \u001b[0;36m<module>\u001b[1;34m\u001b[0m\n\u001b[0;32m      1\u001b[0m \u001b[0mspam\u001b[0m \u001b[1;33m=\u001b[0m \u001b[1;33m{\u001b[0m\u001b[1;34m'bar'\u001b[0m\u001b[1;33m:\u001b[0m \u001b[1;36m100\u001b[0m\u001b[1;33m}\u001b[0m\u001b[1;33m\u001b[0m\u001b[1;33m\u001b[0m\u001b[0m\n\u001b[1;32m----> 2\u001b[1;33m \u001b[0mspam\u001b[0m\u001b[1;33m[\u001b[0m\u001b[1;34m'foo'\u001b[0m\u001b[1;33m]\u001b[0m\u001b[1;33m\u001b[0m\u001b[1;33m\u001b[0m\u001b[0m\n\u001b[0m",
      "\u001b[1;31mKeyError\u001b[0m: 'foo'"
     ]
    }
   ],
   "source": [
    "spam = {'bar': 100}\n",
    "spam['foo']"
   ]
  },
  {
   "cell_type": "markdown",
   "id": "6de2c4f8",
   "metadata": {},
   "source": [
    "__A4.__ We will be getting a <mark>KeyError</mark>."
   ]
  },
  {
   "cell_type": "markdown",
   "id": "d0f5bc3b",
   "metadata": {},
   "source": [
    "### Q5.if a dictionary is stored in spam,what is the difference between the expressions 'cat' in spam and 'cat' in spam.keys() ?"
   ]
  },
  {
   "cell_type": "markdown",
   "id": "7378c9f1",
   "metadata": {},
   "source": [
    "__A5.__ There is no difference. The in operator checks whether a value exists as a key in the dictionary."
   ]
  },
  {
   "cell_type": "markdown",
   "id": "ee9aa398",
   "metadata": {},
   "source": [
    "### Q6.if a dictionary is stored in spam,what is the difference between the expressions 'cat' in spam and 'cat' in spam.values() ?"
   ]
  },
  {
   "cell_type": "markdown",
   "id": "47b381fd",
   "metadata": {},
   "source": [
    "__A6.__ 'cat' in spam checks whether there is a 'cat' key in the dictionary, while 'cat' in spam.values() checks whether there is a value 'cat' for one of the keys in spam"
   ]
  },
  {
   "cell_type": "markdown",
   "id": "21130633",
   "metadata": {},
   "source": [
    "### Q7.what is a shortcut for the following code ?\n",
    "__if 'color' not in spam: spam['color'] ='black'__"
   ]
  },
  {
   "cell_type": "code",
   "execution_count": 17,
   "id": "8ab78821",
   "metadata": {},
   "outputs": [
    {
     "data": {
      "text/plain": [
       "'black'"
      ]
     },
     "execution_count": 17,
     "metadata": {},
     "output_type": "execute_result"
    }
   ],
   "source": [
    "if 'color' not in spam: spam['color'] ='black'\n",
    "spam.setdefault('color', 'black')"
   ]
  },
  {
   "cell_type": "markdown",
   "id": "19d9a6c2",
   "metadata": {},
   "source": [
    "### Q8.How do you 'pretty print' dictionary values using which modules and function ?"
   ]
  },
  {
   "cell_type": "markdown",
   "id": "a43d4197",
   "metadata": {},
   "source": [
    "__A8.__ we can pretty print a dictionary using three functions:\n",
    "\n",
    "- by using pprint() function of pprint module<br>\n",
    "__Note: pprint() function doesnot prettify nested dictionaries__\n",
    "- by using dumps() method of json module\n",
    "- by using dumps() method of yaml module"
   ]
  },
  {
   "cell_type": "code",
   "execution_count": 19,
   "id": "947f5ea2",
   "metadata": {},
   "outputs": [
    {
     "name": "stdout",
     "output_type": "stream",
     "text": [
      "Printing using print() function\n",
      " [{'Name': 'Ram', 'Age': '54', 'Residence': {'Country': 'India', 'City': 'Ayodhya'}}, {'Name': 'Laxman', 'Age': '26', 'Residence': {'Country': 'Indonesia', 'City': 'Bali'}}, {'Name': 'Bharat', 'Age': '35', 'Residence': {'Country': 'Cambodia', 'City': 'Angkor wat'}}, {'Name': 'Shatrugn', 'Age': '24', 'Residence': {'Country': 'Japan', 'City': 'Osaka'}}]\n",
      "----------------------------------------------------------------------\n",
      "Printing using pprint() funciton\n",
      "[{'Age': '54',\n",
      "  'Name': 'Ram',\n",
      "  'Residence': {'City': 'Ayodhya', 'Country': 'India'}},\n",
      " {'Age': '26',\n",
      "  'Name': 'Laxman',\n",
      "  'Residence': {'City': 'Bali', 'Country': 'Indonesia'}},\n",
      " {'Age': '35',\n",
      "  'Name': 'Bharat',\n",
      "  'Residence': {'City': 'Angkor wat', 'Country': 'Cambodia'}},\n",
      " {'Age': '24',\n",
      "  'Name': 'Shatrugn',\n",
      "  'Residence': {'City': 'Osaka', 'Country': 'Japan'}}]\n",
      "----------------------------------------------------------------------\n",
      "Printing using dumps() method\n",
      " - Age: '54'\n",
      "  Name: Ram\n",
      "  Residence:\n",
      "    City: Ayodhya\n",
      "    Country: India\n",
      "- Age: '26'\n",
      "  Name: Laxman\n",
      "  Residence:\n",
      "    City: Bali\n",
      "    Country: Indonesia\n",
      "- Age: '35'\n",
      "  Name: Bharat\n",
      "  Residence:\n",
      "    City: Angkor wat\n",
      "    Country: Cambodia\n",
      "- Age: '24'\n",
      "  Name: Shatrugn\n",
      "  Residence:\n",
      "    City: Osaka\n",
      "    Country: Japan\n",
      "\n",
      "----------------------------------------------------------------------\n",
      "Printing using dump() method\n",
      " - Age: '54'\n",
      "  Name: Ram\n",
      "  Residence:\n",
      "    City: Ayodhya\n",
      "    Country: India\n",
      "- Age: '26'\n",
      "  Name: Laxman\n",
      "  Residence:\n",
      "    City: Bali\n",
      "    Country: Indonesia\n",
      "- Age: '35'\n",
      "  Name: Bharat\n",
      "  Residence:\n",
      "    City: Angkor wat\n",
      "    Country: Cambodia\n",
      "- Age: '24'\n",
      "  Name: Shatrugn\n",
      "  Residence:\n",
      "    City: Osaka\n",
      "    Country: Japan\n",
      "\n"
     ]
    }
   ],
   "source": [
    "import pprint\n",
    "import json\n",
    "dump = json.dumps(ndict, indent=4)\n",
    "import yaml\n",
    "dump = yaml.dump(ndict)\n",
    "\n",
    "ndict = [\n",
    "  {'Name': 'Ram', 'Age': '54', 'Residence': {'Country':'India', 'City': 'Ayodhya'}},\n",
    "  {'Name': 'Laxman', 'Age': '26', 'Residence': {'Country':'Indonesia', 'City': 'Bali'}},\n",
    "  {'Name': 'Bharat', 'Age': '35', 'Residence': {'Country':'Cambodia', 'City': 'Angkor wat'}},\n",
    "  {'Name': 'Shatrugn', 'Age': '24', 'Residence': {'Country':'Japan', 'City': 'Osaka'}}\n",
    "]\n",
    "\n",
    "print('Printing using print() function\\n',ndict)\n",
    "print('-'*70)\n",
    "\n",
    "print('Printing using pprint() funciton')\n",
    "pprint.pprint(ndict)\n",
    "print('-'*70)\n",
    "\n",
    "print('Printing using dumps() method\\n', dump)\n",
    "print('-'*70)\n",
    "\n",
    "print('Printing using dump() method\\n', dump)"
   ]
  }
 ],
 "metadata": {
  "kernelspec": {
   "display_name": "Python 3 (ipykernel)",
   "language": "python",
   "name": "python3"
  },
  "language_info": {
   "codemirror_mode": {
    "name": "ipython",
    "version": 3
   },
   "file_extension": ".py",
   "mimetype": "text/x-python",
   "name": "python",
   "nbconvert_exporter": "python",
   "pygments_lexer": "ipython3",
   "version": "3.8.8"
  }
 },
 "nbformat": 4,
 "nbformat_minor": 5
}
