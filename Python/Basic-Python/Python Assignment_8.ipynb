{
 "cells": [
  {
   "cell_type": "markdown",
   "id": "75530c59",
   "metadata": {},
   "source": [
    "# Python Assignment_8 Solution"
   ]
  },
  {
   "cell_type": "markdown",
   "id": "eff0732b",
   "metadata": {},
   "source": [
    "SUBMITTED BY: NILUTPAL DAS"
   ]
  },
  {
   "cell_type": "markdown",
   "id": "b6ef1a60",
   "metadata": {},
   "source": [
    "### Q1. Is the Python Standard Library included with PyInputPlus?"
   ]
  },
  {
   "cell_type": "markdown",
   "id": "3e18dcff",
   "metadata": {},
   "source": [
    "__A1.__ PyInputPlus is not a part of the Python Standard Library, we must install it separately using Pip."
   ]
  },
  {
   "cell_type": "markdown",
   "id": "6ed748f0",
   "metadata": {},
   "source": [
    "### Q2. Why is PyInputPlus commonly imported with import pyinputplus as pypi?"
   ]
  },
  {
   "cell_type": "markdown",
   "id": "2c8370be",
   "metadata": {},
   "source": [
    "__A2.__ Importing the module PyinputPlus as pypi so that you can enter a shorter name when calling the module’s functions."
   ]
  },
  {
   "cell_type": "markdown",
   "id": "9646fd2c",
   "metadata": {},
   "source": [
    "### Q3. How do you distinguish between inputInt() and inputFloat()?"
   ]
  },
  {
   "cell_type": "markdown",
   "id": "049930a2",
   "metadata": {},
   "source": [
    "__A3.__ In inputInt() gives output as integer value and inputFloat() gives output as float, i.e. decimal."
   ]
  },
  {
   "cell_type": "markdown",
   "id": "38de3c26",
   "metadata": {},
   "source": [
    "### Q4. Using PyInputPlus, how do you ensure that the user enters a whole number between 0 and 99?"
   ]
  },
  {
   "cell_type": "markdown",
   "id": "fe4c61a4",
   "metadata": {},
   "source": [
    "__A4.__ By giving the parameters inside the input section as pyip.inputint(min=0,max=99)."
   ]
  },
  {
   "cell_type": "markdown",
   "id": "53fae2f0",
   "metadata": {},
   "source": [
    "### Q5. What is transferred to the keyword arguments allowRegexes and blockRegexes?"
   ]
  },
  {
   "cell_type": "markdown",
   "id": "68f35e97",
   "metadata": {},
   "source": [
    "__A5.__ List of regex strings that are either explicitly allowed or denied."
   ]
  },
  {
   "cell_type": "markdown",
   "id": "8d3da499",
   "metadata": {},
   "source": [
    "### Q6. If a blank input is entered three times, what does inputStr(limit=3) do?"
   ]
  },
  {
   "cell_type": "markdown",
   "id": "eaf9e642",
   "metadata": {},
   "source": [
    "__A6.__ The function will raise RetryLimitException."
   ]
  },
  {
   "cell_type": "markdown",
   "id": "fb79ad9d",
   "metadata": {},
   "source": [
    "### Q7. If blank input is entered three times, what does inputStr(limit=3, default=&#39;hello&#39;) do?"
   ]
  },
  {
   "cell_type": "markdown",
   "id": "d899f643",
   "metadata": {},
   "source": [
    "__A7.__ The function returns the value 'hello'."
   ]
  }
 ],
 "metadata": {
  "kernelspec": {
   "display_name": "Python 3 (ipykernel)",
   "language": "python",
   "name": "python3"
  },
  "language_info": {
   "codemirror_mode": {
    "name": "ipython",
    "version": 3
   },
   "file_extension": ".py",
   "mimetype": "text/x-python",
   "name": "python",
   "nbconvert_exporter": "python",
   "pygments_lexer": "ipython3",
   "version": "3.8.8"
  }
 },
 "nbformat": 4,
 "nbformat_minor": 5
}
