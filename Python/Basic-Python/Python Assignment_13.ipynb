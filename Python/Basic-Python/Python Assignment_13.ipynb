{
 "cells": [
  {
   "cell_type": "markdown",
   "id": "be9fb1fd",
   "metadata": {},
   "source": [
    "# Python Assignment_13 Solution"
   ]
  },
  {
   "cell_type": "markdown",
   "id": "cbde1f16",
   "metadata": {},
   "source": [
    "SUBMITTED BY: NILUTPAL DAS"
   ]
  },
  {
   "cell_type": "markdown",
   "id": "e75d6a95",
   "metadata": {},
   "source": [
    "### Q1. What advantages do Excel spreadsheets have over CSV spreadsheets?"
   ]
  },
  {
   "cell_type": "markdown",
   "id": "191b2db7",
   "metadata": {},
   "source": [
    "__A1.__ The Advantages of Excel over CSV are:\n",
    "\n",
    "- Excel (XLS and XLSX) file formats are better for storing and analysing complex data.\n",
    "- An Excel not only stores data but can also do operations on the data using macros, formulas etc\n",
    "- CSV files are plain-text files, Does not contain formatting, formulas, macros, etc. It is also known as flat files"
   ]
  },
  {
   "cell_type": "markdown",
   "id": "da16b1f0",
   "metadata": {},
   "source": [
    "### Q2.What do you pass to csv.reader() and csv.writer() to create reader and writer objects?"
   ]
  },
  {
   "cell_type": "markdown",
   "id": "05858eb8",
   "metadata": {},
   "source": [
    "__A2.__ We pass a file object, obtained from call to open()."
   ]
  },
  {
   "cell_type": "code",
   "execution_count": 2,
   "id": "cc028741",
   "metadata": {},
   "outputs": [
    {
     "name": "stdout",
     "output_type": "stream",
     "text": [
      "['\"Name\"', '\"DOB\"', '\"Designation\"']\n",
      "['\"Nilutpal Das\"', '\"29/10/1998\"', '\"Student\"']\n"
     ]
    }
   ],
   "source": [
    "import csv\n",
    "with open('details.csv','r') as file:\n",
    "    csv_file = csv.reader(file,delimiter=',')\n",
    "    for ele in csv_file:\n",
    "        print(ele)"
   ]
  },
  {
   "cell_type": "markdown",
   "id": "e72ecbfb",
   "metadata": {},
   "source": [
    "### Q3. What modes do File objects for reader and writer objects need to be opened in?"
   ]
  },
  {
   "cell_type": "markdown",
   "id": "90e234bf",
   "metadata": {},
   "source": [
    "__A3.__ File objects need to be opened in read-binary ('rb') for reader objects and write-binary ('wb') fro writer objects."
   ]
  },
  {
   "cell_type": "markdown",
   "id": "f97db871",
   "metadata": {},
   "source": [
    "### Q4. What method takes a list argument and writes it to a CSV file?"
   ]
  },
  {
   "cell_type": "code",
   "execution_count": null,
   "id": "c89b1dc8",
   "metadata": {},
   "outputs": [],
   "source": [
    "# Example Program\n",
    "import csv      \n",
    "fields = ['Name', 'Branch', 'CGPA'] #column names \n",
    "rows = [ \n",
    "            ['Nilutpal', 'CSE', '9.0'],  # data rows of csv file \n",
    "            ['Rohit', 'CSE', '9.1'], \n",
    "            ['Ram', 'ECE', '9.3']\n",
    "       ] \n",
    "with open(\"records.csv\", 'w') as csvfile: \n",
    "    csvwriter = csv.writer(csvfile) # creating a csv writer object \n",
    "    csvwriter.writerow(fields) # writing the fields \n",
    "    csvwriter.writerows(rows) # writing the data rows "
   ]
  },
  {
   "cell_type": "markdown",
   "id": "13b4e0fd",
   "metadata": {},
   "source": [
    "### Q5. What do the keyword arguments delimiter and line terminator do?"
   ]
  },
  {
   "cell_type": "markdown",
   "id": "526f592f",
   "metadata": {},
   "source": [
    "__A5.__ Lets take the example of a csv file:<br>\n",
    "First Name, Last Name, Age<br>\n",
    "Rohit, Sharma, 28<br>\n",
    "Nilutpal, Das, 30<br>\n",
    "Here ',' is Delimiter. We can use any Character as per our needs if required. Similarly Line Terminator comes at end of line by default it is newline and can be changed accourding to Requirement."
   ]
  },
  {
   "cell_type": "markdown",
   "id": "fa743523",
   "metadata": {},
   "source": [
    "### Q6. What function takes a string of JSON data and returns a Python data structure?"
   ]
  },
  {
   "cell_type": "markdown",
   "id": "05afdebd",
   "metadata": {},
   "source": [
    "__A6.__ <mark>json.loads()</mark>, this method takes a string of JSON data and returns a Python data structure."
   ]
  },
  {
   "cell_type": "markdown",
   "id": "533cbb9d",
   "metadata": {},
   "source": [
    "### Q7. What function takes a Python data structure and returns a string of JSON data?"
   ]
  },
  {
   "cell_type": "markdown",
   "id": "9a30f4b5",
   "metadata": {},
   "source": [
    "__A7.__ <mark>json.dumps()</mark>, this method takes a python data structure and returns a string of JSON data."
   ]
  }
 ],
 "metadata": {
  "kernelspec": {
   "display_name": "Python 3 (ipykernel)",
   "language": "python",
   "name": "python3"
  },
  "language_info": {
   "codemirror_mode": {
    "name": "ipython",
    "version": 3
   },
   "file_extension": ".py",
   "mimetype": "text/x-python",
   "name": "python",
   "nbconvert_exporter": "python",
   "pygments_lexer": "ipython3",
   "version": "3.8.8"
  }
 },
 "nbformat": 4,
 "nbformat_minor": 5
}
