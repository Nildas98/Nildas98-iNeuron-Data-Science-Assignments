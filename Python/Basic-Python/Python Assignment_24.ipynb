{
 "cells": [
  {
   "cell_type": "markdown",
   "id": "967e3fb7",
   "metadata": {},
   "source": [
    "# Python Assignment_24 Solution"
   ]
  },
  {
   "cell_type": "markdown",
   "id": "9b69cb3a",
   "metadata": {},
   "source": [
    "SUBMITTED BY: NILUTPAL DAS"
   ]
  },
  {
   "cell_type": "markdown",
   "id": "a9e31342",
   "metadata": {},
   "source": [
    "### Q1. What is the relationship between def statements and lambda expressions ?"
   ]
  },
  {
   "cell_type": "markdown",
   "id": "0e4d9fa6",
   "metadata": {},
   "source": [
    "__A1.__ __def____ statement is used to create a normal function whereas lambda expressions are used to create Anonymous functions which can be assigned to a variable and can be called using the variable later in function.\n",
    "\n",
    "__Lambda__'s body is a single expression and not a block of statements like def statement. The lambda expression's body is similar to what we would put in a def body's return statement. We simply type the result as an expression instead of explicitly returning it. Because it is limited to an expression, a lambda is less general than a def statement. "
   ]
  },
  {
   "cell_type": "markdown",
   "id": "33edc4c4",
   "metadata": {},
   "source": [
    "### Q2. What is the benefit of lambda?"
   ]
  },
  {
   "cell_type": "markdown",
   "id": "78add49f",
   "metadata": {},
   "source": [
    "__A2.__ The following are some of the benefits of lambda expressions:\n",
    "\n",
    "1. It can be used to create Nameless/Anonymous functions inside some complex functions if we are planning to use it only once.\n",
    "2. Moderate to small functions can be created in a single line\n",
    "3. Fuctions created using lambda expressions can be assigned to a variable and can be used by simply calling the variable"
   ]
  },
  {
   "cell_type": "markdown",
   "id": "4b6c8577",
   "metadata": {},
   "source": [
    "### Q3. Compare and contrast map, filter, and reduce."
   ]
  },
  {
   "cell_type": "markdown",
   "id": "714b42db",
   "metadata": {},
   "source": [
    "__A3.__ The differences between map, filter and reduce are:\n",
    "\n",
    "1. __map()__: The map() function is a type of higher-order. This function takes another function as a parameter along with a sequence of iterables and returns an output after applying the function to each iterable present in the sequence. \n",
    "2. __filter()____: The filter() function is used to create an output list consisting of values for which the function returns true. \n",
    "3. __reduce()__: The reduce() function, as the name describes, applies a given function to the iterables and returns a single value."
   ]
  },
  {
   "cell_type": "code",
   "execution_count": 1,
   "id": "3758139f",
   "metadata": {},
   "outputs": [
    {
     "name": "stdout",
     "output_type": "stream",
     "text": [
      "Map -> [2, 4, 6, 16]\n",
      "Filter -> [1, 3, 9]\n",
      "Reduce -> 22\n"
     ]
    }
   ],
   "source": [
    "from functools import reduce\n",
    "# map function\n",
    "print('Map ->',list(map(lambda x:x+x, [1,2,3,8])))\n",
    "# fitler function\n",
    "print('Filter ->',list(filter(lambda x:x%2 !=0, [1,2,3,9])))\n",
    "# reduce function\n",
    "print('Reduce ->',reduce(lambda x,y:x+y, [1,2,3,4,5,7]))"
   ]
  },
  {
   "cell_type": "markdown",
   "id": "7c350803",
   "metadata": {},
   "source": [
    "### Q4. What are function annotations, and how are they used?"
   ]
  },
  {
   "cell_type": "markdown",
   "id": "0cf1585f",
   "metadata": {},
   "source": [
    "__A4.__ Function annotations provide a way of associating various parts of a function with arbitrary python expressions at compile time.\n",
    "Annotations of simple parameters def func(x: expression, y: expression = 20):\n",
    "Whereas the annotations for excess parameters are as − def func (**args: expression, **kwargs: expression):\n",
    "\n",
    "Purpose of Function Annotations:\n",
    "\n",
    "Python supports dynamic typing and hence no module is provided for type checking.\n",
    "String based annotations can be used by the libraries to provide better help messages at compile time regarding the functionalities of various methods, classes and modules.\n",
    "\n",
    "Example of Annotations:\n",
    "\n",
    "Annotations for simple parameters : def foo(a: expression, b: expression = 5):\n",
    "Annotations for excess parameters : def foo(args: expression, kwargs: expression):\n",
    "Annotations for nested parameters : def foo((a: expression, b: expression), (c: expression, d: expression)):"
   ]
  },
  {
   "cell_type": "markdown",
   "id": "9bb107e1",
   "metadata": {},
   "source": [
    "### Q5. What are recursive functions, and how are they used?"
   ]
  },
  {
   "cell_type": "markdown",
   "id": "bd0cec12",
   "metadata": {},
   "source": [
    "__A5.__ A recursive function is a function that calls itself during its execution. The process may repeat several times, outputting the result and the end of each iteration. An example is mentioned below:"
   ]
  },
  {
   "cell_type": "code",
   "execution_count": 2,
   "id": "9391d0c9",
   "metadata": {},
   "outputs": [
    {
     "name": "stdout",
     "output_type": "stream",
     "text": [
      "The factorial of 3 is 6\n"
     ]
    }
   ],
   "source": [
    "def factorial(x):\n",
    "    \"\"\"This is a recursive function\n",
    "    to find the factorial of an integer\"\"\"\n",
    "\n",
    "    if x == 1:\n",
    "        return 1\n",
    "    else:\n",
    "        return (x * factorial(x-1))\n",
    "\n",
    "\n",
    "num = 3\n",
    "print(\"The factorial of\", num, \"is\", factorial(num))"
   ]
  },
  {
   "cell_type": "markdown",
   "id": "1beb4068",
   "metadata": {},
   "source": [
    "### Q6. What are some general design guidelines for coding functions?"
   ]
  },
  {
   "cell_type": "markdown",
   "id": "fbdc9786",
   "metadata": {},
   "source": [
    "__A6.__ Some of the general design guidelines for coding functions are:\n",
    "\n",
    "1. Always use a docstring to explain the functionality of the function.\n",
    "2. Avoid using or limit use of global variables.\n",
    "3. Proper Indentation to increase the code readability.\n",
    "4. Try to follow a proper naming convention for function names. (pascalCase or camelCase) and stick with the same convention throughout the application.\n",
    "5. Avoid using digits while choosing a variable name.\n",
    "6. Try to use a name for the function which conveys the purpose of the function.\n",
    "7. Local variables should be named using camelCase format (ex: localVariable) whereas Global variables names should be using PascalCase (ex:GlobalVariable).\n",
    "8. Constant should be represented in allcaps (ex:CONSTANT)."
   ]
  },
  {
   "cell_type": "markdown",
   "id": "a35222ae",
   "metadata": {},
   "source": [
    "### Q7. Name three or more ways that functions can communicate results to a caller."
   ]
  },
  {
   "cell_type": "markdown",
   "id": "07b8bdc5",
   "metadata": {},
   "source": [
    "__A7.__ Some of the ways in which a function can communicate with the calling function is:\n",
    "    \n",
    "1. print\n",
    "2. return\n",
    "3. yield"
   ]
  }
 ],
 "metadata": {
  "kernelspec": {
   "display_name": "Python 3 (ipykernel)",
   "language": "python",
   "name": "python3"
  },
  "language_info": {
   "codemirror_mode": {
    "name": "ipython",
    "version": 3
   },
   "file_extension": ".py",
   "mimetype": "text/x-python",
   "name": "python",
   "nbconvert_exporter": "python",
   "pygments_lexer": "ipython3",
   "version": "3.8.8"
  }
 },
 "nbformat": 4,
 "nbformat_minor": 5
}
