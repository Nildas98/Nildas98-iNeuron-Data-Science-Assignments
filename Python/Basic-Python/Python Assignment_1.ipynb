{
 "cells": [
  {
   "cell_type": "markdown",
   "id": "07126cf3",
   "metadata": {},
   "source": [
    "# Python Assignment_1 Solution"
   ]
  },
  {
   "cell_type": "markdown",
   "id": "fef4e27c",
   "metadata": {},
   "source": [
    "SUBMITTED BY : NILUTPAL DAS"
   ]
  },
  {
   "cell_type": "markdown",
   "id": "b6282978",
   "metadata": {},
   "source": [
    "## Q1. In the below elements which of them are values or an expression? eg:- values can be integer or string and expressions will be mathematical operators."
   ]
  },
  {
   "cell_type": "markdown",
   "id": "9b6791fb",
   "metadata": {},
   "source": [
    "*, 'hello', -87.8, -, /, +, 6"
   ]
  },
  {
   "cell_type": "markdown",
   "id": "2c0b790b",
   "metadata": {},
   "source": [
    "__A1.__ There are __3__ values and __4__ expressions.<br>\n",
    "__Values__ = 'hello', 87.8, 6<br>\n",
    "__Expressions__ = *, -, /, +"
   ]
  },
  {
   "cell_type": "markdown",
   "id": "d49bea62",
   "metadata": {},
   "source": [
    "## Q2. What is the difference between string and variable?"
   ]
  },
  {
   "cell_type": "markdown",
   "id": "8df2003b",
   "metadata": {},
   "source": [
    "__A2.__<br> __String__ - type of datatype, used to represent text data enclosd within \"\".<br>\n",
    "__Variable__ - used for storing information be it in form of string or integer.<br>\n",
    "Example: x = \"Welcome to python\", \n",
    "here the x is assigned as a variable for storing the information whereas \n",
    "the information is in the form of string enclosed in \"\"."
   ]
  },
  {
   "cell_type": "markdown",
   "id": "26f4d7b1",
   "metadata": {},
   "source": [
    "## Q3. Describe three different data types."
   ]
  },
  {
   "cell_type": "markdown",
   "id": "d1df46cc",
   "metadata": {},
   "source": [
    "__A3.__<br> \n",
    "1. __Numeric datatype__ - represents data in numeric value, it can be integers, complex numbers or float.<br>\n",
    "    \n",
    "    i. __Integers__ - represented by int class, contains positive or negative whole numbers.<br>\n",
    "    ii. __Complex Numbers__ - represented by complex class, contains both real and imaginary part.<br>\n",
    "    iii. __Float__ - represented as float class, contains real numbers with decimal point.<br>\n",
    "\n",
    "2. __Sequence datatype__ - represents data in ordered collection of similar or different data types.<br>\n",
    "    \n",
    "    i. __String__ - represents test data, collection of one or more characters put in a single quote, double-quote or triple quote.<br>\n",
    "    ii. __List__ - similar to arrays, used for storing ordered collection of data, enclosed in [].<br>\n",
    "    iii. __Tuple__ - similar to list, used for storing ordered collection of data, enclosed in ().<br>\n",
    "\n",
    "3. __Boolean datatype__ - datatype have only two built in values.<br>\n",
    "\n",
    "    i. __True__ - objects that are equal to True.<br>\n",
    "    ii. __False__ - objects that are equal to False.<br>"
   ]
  },
  {
   "cell_type": "markdown",
   "id": "96466c76",
   "metadata": {},
   "source": [
    "## Q4. What is an expression made up of? What do all expressions do?"
   ]
  },
  {
   "cell_type": "markdown",
   "id": "07a52ce1",
   "metadata": {},
   "source": [
    "__A4.__ Inshort, It is a combination of operators and operands to produce some other value.<br> An expression is a combination of values, variables, operators, and calls to functions. Expressions need to be evaluated as per the precedence of its operators.<br>\n",
    "Expression are used to represent values using operators and operands.<br>\n",
    "Example: x = x+y is an arithmetic expression, where + is addition operators."
   ]
  },
  {
   "cell_type": "code",
   "execution_count": 9,
   "id": "8ee6cc31",
   "metadata": {},
   "outputs": [
    {
     "data": {
      "text/plain": [
       "5"
      ]
     },
     "execution_count": 9,
     "metadata": {},
     "output_type": "execute_result"
    }
   ],
   "source": [
    "2+3 #this is an expression, and gives result 5"
   ]
  },
  {
   "cell_type": "markdown",
   "id": "9be0850d",
   "metadata": {},
   "source": [
    "## Q5. This assignment statements, like spam = 10. What is the difference between an expression and a statement?"
   ]
  },
  {
   "cell_type": "markdown",
   "id": "caf160f9",
   "metadata": {},
   "source": [
    "__A5.__ In spam = 10, the whole line of code is a statement, here the string variable 'spam' is assigning value as 10.<br>\n",
    "\n",
    "A statement is not evaluated for some results. A statement is used for creating variables or for displaying values.<br>\n",
    "Example: spam=10, is a statement.<br>\n",
    "\n",
    "The expression in Python can be considered as a logical line of code that is evaluated to obtain some result.<br>\n",
    "Example: 2+3, is an expression."
   ]
  },
  {
   "cell_type": "markdown",
   "id": "34a0edc5",
   "metadata": {},
   "source": [
    "## Q6. After running the following code, what does the variable bacon contain?\n",
    "bacon = 22\n",
    "\n",
    "bacon + 1"
   ]
  },
  {
   "cell_type": "code",
   "execution_count": 10,
   "id": "d81ba8c4",
   "metadata": {},
   "outputs": [
    {
     "data": {
      "text/plain": [
       "23"
      ]
     },
     "execution_count": 10,
     "metadata": {},
     "output_type": "execute_result"
    }
   ],
   "source": [
    "bacon = 22\n",
    "\n",
    "bacon + 1"
   ]
  },
  {
   "cell_type": "markdown",
   "id": "c862df72",
   "metadata": {},
   "source": [
    "__A6.__ Answer is 23."
   ]
  },
  {
   "cell_type": "markdown",
   "id": "bd46e53e",
   "metadata": {},
   "source": [
    "## Q7. What should the values of the following two terms be?\n",
    "'spam' + 'spamspam'\n",
    "\n",
    "'spam' * 3"
   ]
  },
  {
   "cell_type": "code",
   "execution_count": 3,
   "id": "6165e7f7",
   "metadata": {},
   "outputs": [
    {
     "data": {
      "text/plain": [
       "'spamspamspam'"
      ]
     },
     "execution_count": 3,
     "metadata": {},
     "output_type": "execute_result"
    }
   ],
   "source": [
    "'spam' + 'spamspam'"
   ]
  },
  {
   "cell_type": "code",
   "execution_count": 4,
   "id": "96d5d805",
   "metadata": {},
   "outputs": [
    {
     "data": {
      "text/plain": [
       "'spamspamspam'"
      ]
     },
     "execution_count": 4,
     "metadata": {},
     "output_type": "execute_result"
    }
   ],
   "source": [
    "'spam' * 3"
   ]
  },
  {
   "cell_type": "markdown",
   "id": "35c5cad6",
   "metadata": {},
   "source": [
    "## Q8. Why is eggs a valid variable name while 100 is invalid?"
   ]
  },
  {
   "cell_type": "markdown",
   "id": "87800392",
   "metadata": {},
   "source": [
    "__A8.__ The reserved words(keywords) cannot be used naming the variable.Here, the eggs is a string and 100 is an integer value.<br>  \n",
    "There are some predefined rules to be followed while creating a variable.<br>\n",
    "    1.Variable name must start with a letter or the underscore character.<br>\n",
    "    2.Variable name cannot start with a number.<br>\n",
    "    3.Variable name can only contain alpha-numeric characters and underscores (A-z, 0-9, & _ ).<br>\n",
    "    4.Variable names are case-sensitive (name, NILDAS and nildas are three different variables).<br>\n",
    "    5.The reserved words(keywords) cannot be used naming the variable.<br>\n",
    "    \n",
    "that is the reason eggs is considered as valid variable while 100 does not."
   ]
  },
  {
   "cell_type": "markdown",
   "id": "0e238370",
   "metadata": {},
   "source": [
    "## Q9. What three functions can be used to get the integer, floating-point number, or string version of a value?"
   ]
  },
  {
   "cell_type": "markdown",
   "id": "54b4ae73",
   "metadata": {},
   "source": [
    "__A9.__ The int() , float() and str() functions will evaluate to the integer,floating-point number,string version of the value passed to them."
   ]
  },
  {
   "cell_type": "code",
   "execution_count": 12,
   "id": "fed837ff",
   "metadata": {},
   "outputs": [
    {
     "name": "stdout",
     "output_type": "stream",
     "text": [
      "int(45.5) -> 45\n",
      "float(45) -> 45.5\n",
      "str(45) -> 45.5\n"
     ]
    }
   ],
   "source": [
    "print('int(45.5) ->', int(45.5)) #int() function converts input into int.\n",
    "print('float(45) ->', float(45.5)) #float() function converts input into float.\n",
    "print('str(45) ->', str(45.5)) #str() function converts input into string."
   ]
  },
  {
   "cell_type": "markdown",
   "id": "0179eb27",
   "metadata": {},
   "source": [
    "## Q10. Why does this expression cause an error? How can you fix it?\n",
    "'I have eaten '+99+' burritos.'"
   ]
  },
  {
   "cell_type": "markdown",
   "id": "b2d846b6",
   "metadata": {},
   "source": [
    "__A10.__ 'I have eaten '+99+' burritos.' - Here in this expression, 99 is not a string it is an integer.<br>\n",
    "Fix - by converting the 99 string by typecasting can fix this error.<br>"
   ]
  },
  {
   "cell_type": "code",
   "execution_count": 14,
   "id": "382dbb7b",
   "metadata": {},
   "outputs": [
    {
     "data": {
      "text/plain": [
       "'I have eaten 99 burritos.'"
      ]
     },
     "execution_count": 14,
     "metadata": {},
     "output_type": "execute_result"
    }
   ],
   "source": [
    "'I have eaten '+str(99)+' burritos.'"
   ]
  },
  {
   "cell_type": "markdown",
   "id": "8f61c5d9",
   "metadata": {},
   "source": [
    "## THANK YOU"
   ]
  }
 ],
 "metadata": {
  "kernelspec": {
   "display_name": "Python 3 (ipykernel)",
   "language": "python",
   "name": "python3"
  },
  "language_info": {
   "codemirror_mode": {
    "name": "ipython",
    "version": 3
   },
   "file_extension": ".py",
   "mimetype": "text/x-python",
   "name": "python",
   "nbconvert_exporter": "python",
   "pygments_lexer": "ipython3",
   "version": "3.8.8"
  }
 },
 "nbformat": 4,
 "nbformat_minor": 5
}
