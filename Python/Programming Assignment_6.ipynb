{
 "cells": [
  {
   "cell_type": "markdown",
   "id": "49d7d03c",
   "metadata": {},
   "source": [
    "# Python Programming Assignment_6 Solution"
   ]
  },
  {
   "cell_type": "markdown",
   "id": "0f889bf7",
   "metadata": {},
   "source": [
    "SUBMITTED BY: NILUTPAL DAS"
   ]
  },
  {
   "cell_type": "markdown",
   "id": "30b65966",
   "metadata": {},
   "source": [
    "### Q1. Write a Python Program to Display Fibonacci Sequence Using Recursion?"
   ]
  },
  {
   "cell_type": "code",
   "execution_count": 2,
   "id": "a19c62f7",
   "metadata": {},
   "outputs": [
    {
     "name": "stdout",
     "output_type": "stream",
     "text": [
      "Enter the length of Series: 10\n",
      "0, 1, 3, 5, 8, 13, 21, 34, 55, 89, 144, 233, "
     ]
    }
   ],
   "source": [
    "def genFibonacci(n,a,b):\n",
    "    if n == 0:\n",
    "        return 1\n",
    "    else:\n",
    "        result = a+b\n",
    "        print(result, end=', ')\n",
    "        genFibonacci(n-1,b,result)\n",
    "in_num = int(input('Enter the length of Series: '))\n",
    "print('0, 1',end=', ')\n",
    "genFibonacci(in_num,1,2)"
   ]
  },
  {
   "cell_type": "markdown",
   "id": "15e25703",
   "metadata": {},
   "source": [
    "### Q2. Write a Python Program to Find Factorial of Number Using Recursion?"
   ]
  },
  {
   "cell_type": "code",
   "execution_count": 3,
   "id": "7974204f",
   "metadata": {},
   "outputs": [
    {
     "name": "stdout",
     "output_type": "stream",
     "text": [
      "Enter a number: 6\n",
      "The Factorial of 6 is 720\n"
     ]
    }
   ],
   "source": [
    "def factorial(num):\n",
    "    if (num < 1):\n",
    "        return 1\n",
    "    else:\n",
    "        return num*factorial(num-1)\n",
    "num = int(input('Enter a number: '))\n",
    "value = factorial(num)\n",
    "print(f'The Factorial of {num} is {value}')"
   ]
  },
  {
   "cell_type": "markdown",
   "id": "36a12d80",
   "metadata": {},
   "source": [
    "### Q3. Write a Python Program to calculate your Body Mass Index?"
   ]
  },
  {
   "cell_type": "code",
   "execution_count": 4,
   "id": "6d430514",
   "metadata": {},
   "outputs": [
    {
     "name": "stdout",
     "output_type": "stream",
     "text": [
      "Enter your Weight(kgs): 85\n",
      "Enter your Height(mts): 1.8\n",
      "Your're BMI is 26.234567901234566 and status is Overweight \n"
     ]
    }
   ],
   "source": [
    "def calculateBMI():\n",
    "    in_weight = eval(input('Enter your Weight(kgs): '))\n",
    "    in_height = eval(input('Enter your Height(mts): '))\n",
    "    calc_bmi = in_weight/pow(in_height,2)\n",
    "    if (calc_bmi < 18.5):\n",
    "        status = 'Underweight'\n",
    "    elif (calc_bmi >= 18.5 and calc_bmi < 24.9):\n",
    "        status = 'Healthy'\n",
    "    elif (calc_bmi >= 24.9 and calc_bmi < 30):\n",
    "        status = 'Overweight'\n",
    "    elif (calc_bmi >=30):\n",
    "        status = 'Suffering from Obesity'\n",
    "    print(f'Your\\'re BMI is {calc_bmi} and status is {status} ')\n",
    "calculateBMI()"
   ]
  },
  {
   "cell_type": "markdown",
   "id": "8d6228c4",
   "metadata": {},
   "source": [
    "### Q4. Write a Python Program to calculate the natural logarithm of any number?"
   ]
  },
  {
   "cell_type": "code",
   "execution_count": 5,
   "id": "79e2bec4",
   "metadata": {},
   "outputs": [
    {
     "name": "stdout",
     "output_type": "stream",
     "text": [
      "Enter a Number:6\n",
      "1.791759469228055\n"
     ]
    }
   ],
   "source": [
    "import math\n",
    "def genNatLog():\n",
    "    in_num = eval(input(\"Enter a Number:\"))\n",
    "    print(math.log(in_num))\n",
    "\n",
    "genNatLog()"
   ]
  },
  {
   "cell_type": "markdown",
   "id": "bd86ed12",
   "metadata": {},
   "source": [
    "### Q5. Write a Python Program for cube sum of first n natural numbers?"
   ]
  },
  {
   "cell_type": "code",
   "execution_count": 6,
   "id": "74a5213b",
   "metadata": {},
   "outputs": [
    {
     "name": "stdout",
     "output_type": "stream",
     "text": [
      "Enter the no of Natural Numbers: 44\n",
      "The Cube Sum of First 44 Natural Numbers is 980100.0\n"
     ]
    }
   ],
   "source": [
    "def cubeOfNaturalNumbers():\n",
    "    in_num = int(input(\"Enter the no of Natural Numbers: \"))\n",
    "    result = pow(((in_num * (in_num +1))/2),2)\n",
    "    print(f'The Cube Sum of First {in_num} Natural Numbers is {result}')\n",
    "\n",
    "cubeOfNaturalNumbers()"
   ]
  }
 ],
 "metadata": {
  "kernelspec": {
   "display_name": "Python 3 (ipykernel)",
   "language": "python",
   "name": "python3"
  },
  "language_info": {
   "codemirror_mode": {
    "name": "ipython",
    "version": 3
   },
   "file_extension": ".py",
   "mimetype": "text/x-python",
   "name": "python",
   "nbconvert_exporter": "python",
   "pygments_lexer": "ipython3",
   "version": "3.8.8"
  }
 },
 "nbformat": 4,
 "nbformat_minor": 5
}
