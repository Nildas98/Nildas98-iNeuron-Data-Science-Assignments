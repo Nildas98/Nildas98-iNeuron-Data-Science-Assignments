{
 "cells": [
  {
   "cell_type": "markdown",
   "id": "77aeac42",
   "metadata": {},
   "source": [
    "# Python Programming Assignment_4 Solution"
   ]
  },
  {
   "cell_type": "markdown",
   "id": "b5f838ec",
   "metadata": {},
   "source": [
    "SUBMITTED BY: NILUTPAL DAS"
   ]
  },
  {
   "cell_type": "markdown",
   "id": "7b8ca922",
   "metadata": {},
   "source": [
    "### Q1. Write a Python Program to Find the Factorial of a Number?"
   ]
  },
  {
   "cell_type": "code",
   "execution_count": 4,
   "id": "f33c097b",
   "metadata": {},
   "outputs": [
    {
     "name": "stdout",
     "output_type": "stream",
     "text": [
      "Enter a number: 8\n",
      "The Factorial of 8 is 40320\n"
     ]
    }
   ],
   "source": [
    "def factorial(num):\n",
    "    if (num < 1):\n",
    "        return 1\n",
    "    else:\n",
    "        return num*factorial(num-1)\n",
    "    \n",
    "num = int(input('Enter a number: '))\n",
    "value = factorial(num)\n",
    "print(f'The Factorial of {num} is {value}')"
   ]
  },
  {
   "cell_type": "markdown",
   "id": "e7199315",
   "metadata": {},
   "source": [
    "### Q2.Write a Python Program to display the multiplication table ?"
   ]
  },
  {
   "cell_type": "code",
   "execution_count": 5,
   "id": "9f236704",
   "metadata": {},
   "outputs": [
    {
     "name": "stdout",
     "output_type": "stream",
     "text": [
      "Enter a number: 22\n",
      "Enter no of entries: 5\n",
      "22 X 1 = 22\n",
      "22 X 2 = 44\n",
      "22 X 3 = 66\n",
      "22 X 4 = 88\n",
      "22 X 5 = 110\n"
     ]
    }
   ],
   "source": [
    "def generateTable(base,entries):\n",
    "    for x in range(1,entries+1):\n",
    "        print(f'{base} X {x} = {base*x}')\n",
    "\n",
    "num = int(input('Enter a number: '))\n",
    "values = int(input('Enter no of entries: '))\n",
    "generateTable(num,values)"
   ]
  },
  {
   "cell_type": "markdown",
   "id": "6314e3fa",
   "metadata": {},
   "source": [
    "### Q3.Write a Python Program to print the fibonacci sequence ?"
   ]
  },
  {
   "cell_type": "code",
   "execution_count": 11,
   "id": "c4e08384",
   "metadata": {},
   "outputs": [
    {
     "name": "stdout",
     "output_type": "stream",
     "text": [
      "How many terms? 6\n",
      "Fibonacci sequence:\n",
      "0\n",
      "1\n",
      "1\n",
      "2\n",
      "3\n",
      "5\n"
     ]
    }
   ],
   "source": [
    "nterms = int(input(\"How many terms? \"))\n",
    "\n",
    "n1, n2 = 0, 1\n",
    "count = 0\n",
    "\n",
    "if nterms <= 0:\n",
    "   print(\"Please enter a positive integer\")\n",
    "elif nterms == 1:\n",
    "   print(\"Fibonacci sequence upto\",nterms,\":\")\n",
    "   print(n1)\n",
    "else:\n",
    "   print(\"Fibonacci sequence:\")\n",
    "   while count < nterms:\n",
    "       print(n1)\n",
    "       nth = n1 + n2\n",
    "       n1 = n2\n",
    "       n2 = nth\n",
    "       count += 1"
   ]
  },
  {
   "cell_type": "markdown",
   "id": "b5ea88ac",
   "metadata": {},
   "source": [
    "### Q4.Write a Python Program to check Armstrong number ?"
   ]
  },
  {
   "cell_type": "code",
   "execution_count": 13,
   "id": "8a92a310",
   "metadata": {},
   "outputs": [
    {
     "name": "stdout",
     "output_type": "stream",
     "text": [
      "Enter a number: 10\n",
      "10 is a Not Armstrong Number\n",
      "Enter a number: 11\n",
      "11 is a Not Armstrong Number\n"
     ]
    }
   ],
   "source": [
    "def checkArmstrongNumber():\n",
    "    in_num = input('Enter a number: ')\n",
    "    sum = 0\n",
    "    for char in range(len(in_num)):\n",
    "        sum = sum + pow(int(in_num[char]),3)\n",
    "    if sum == int(in_num):\n",
    "        print(f'{in_num} is a Armstrong Number')\n",
    "    else:\n",
    "        print(f'{in_num} is a Not Armstrong Number')\n",
    "\n",
    "for x in range(2):\n",
    "    checkArmstrongNumber()"
   ]
  },
  {
   "cell_type": "markdown",
   "id": "2bef2f2c",
   "metadata": {},
   "source": [
    "### Q5.Write a Python Program to Find Armstrong number in an interval ?"
   ]
  },
  {
   "cell_type": "code",
   "execution_count": 14,
   "id": "9c35edd9",
   "metadata": {},
   "outputs": [
    {
     "name": "stdout",
     "output_type": "stream",
     "text": [
      "Enter the Start of the Interval: 11\n",
      "Enter the End of the Interval: 2\n",
      "Start Interval Cannot be Greater than End Interval\n"
     ]
    }
   ],
   "source": [
    "def checkArmstrongNumber(in_num, storage):\n",
    "    sum = 0\n",
    "    for char in range(len(in_num)):\n",
    "        sum = sum + pow(int(in_num[char]),3)\n",
    "    if sum == int(in_num):\n",
    "        storage.append(int(in_num))\n",
    "\n",
    "start_interval = int(input('Enter the Start of the Interval: '))\n",
    "end_interval = int(input('Enter the End of the Interval: '))\n",
    "list_of_armstrong = []\n",
    "\n",
    "if start_interval > end_interval:\n",
    "    print(\"Start Interval Cannot be Greater than End Interval\")\n",
    "else:\n",
    "    for number in range(start_interval,end_interval+1):\n",
    "        checkArmstrongNumber(str(number),list_of_armstrong)\n",
    "    print(f'The Armstrong numbers between {start_interval} and {end_interval} are {list_of_armstrong}')"
   ]
  },
  {
   "cell_type": "markdown",
   "id": "d10c86e4",
   "metadata": {},
   "source": [
    "### Q6.Write a Python Program to sum of natural numbers ?"
   ]
  },
  {
   "cell_type": "code",
   "execution_count": 15,
   "id": "472c66f6",
   "metadata": {},
   "outputs": [
    {
     "name": "stdout",
     "output_type": "stream",
     "text": [
      "Enter a number: 5\n",
      "Sum of 5 natural numbers is 15.0\n"
     ]
    }
   ],
   "source": [
    "def sumOfNaturalNumbers(num):\n",
    "    sum = num*((num+1)/2)\n",
    "    print(f'Sum of {num} natural numbers is {sum}')\n",
    "    \n",
    "num = int(input('Enter a number: '))\n",
    "sumOfNaturalNumbers(num)"
   ]
  }
 ],
 "metadata": {
  "kernelspec": {
   "display_name": "Python 3 (ipykernel)",
   "language": "python",
   "name": "python3"
  },
  "language_info": {
   "codemirror_mode": {
    "name": "ipython",
    "version": 3
   },
   "file_extension": ".py",
   "mimetype": "text/x-python",
   "name": "python",
   "nbconvert_exporter": "python",
   "pygments_lexer": "ipython3",
   "version": "3.8.8"
  }
 },
 "nbformat": 4,
 "nbformat_minor": 5
}
